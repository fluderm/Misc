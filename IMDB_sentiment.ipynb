{
  "nbformat": 4,
  "nbformat_minor": 0,
  "metadata": {
    "colab": {
      "provenance": [],
      "machine_shape": "hm",
      "toc_visible": true,
      "authorship_tag": "ABX9TyPcr0GgWPVlAhKnJVGknBhs",
      "include_colab_link": true
    },
    "kernelspec": {
      "name": "python3",
      "display_name": "Python 3"
    },
    "language_info": {
      "name": "python"
    },
    "accelerator": "GPU",
    "gpuClass": "standard"
  },
  "cells": [
    {
      "cell_type": "markdown",
      "metadata": {
        "id": "view-in-github",
        "colab_type": "text"
      },
      "source": [
        "<a href=\"https://colab.research.google.com/github/fluderm/Fellowship.ai/blob/main/IMDB_sentiment.ipynb\" target=\"_parent\"><img src=\"https://colab.research.google.com/assets/colab-badge.svg\" alt=\"Open In Colab\"/></a>"
      ]
    },
    {
      "cell_type": "markdown",
      "source": [
        "# Introduction\n",
        "\n",
        "The following is my attempt at the IMDB sentiment analysis challenge by fellowship.ai.\n",
        " \n",
        "Thank you very much for your time looking through my notebook.\n",
        " \n",
        "Rmk: In academia (theoretical physics) it is standard practice to write 'we' even for single author papers. In the following, I've used this terminology (as it is more natural to me), but I emphasize that everything presented here is done solely by myself and without help from anyone else.\n"
      ],
      "metadata": {
        "id": "cRnYwNpYQ0hl"
      }
    },
    {
      "cell_type": "markdown",
      "source": [
        "# Download IMDB dataset\n",
        "\n",
        "We start by loading the data."
      ],
      "metadata": {
        "id": "tNBBUzulDio5"
      }
    },
    {
      "cell_type": "code",
      "execution_count": null,
      "metadata": {
        "id": "ZQq8DGWEAciW",
        "colab": {
          "base_uri": "https://localhost:8080/"
        },
        "outputId": "0103be04-5fe7-49ba-b508-6775e83361e5"
      },
      "outputs": [
        {
          "output_type": "stream",
          "name": "stdout",
          "text": [
            "\u001b[K     |████████████████████████████████| 1.1 MB 15.0 MB/s \n",
            "\u001b[K     |████████████████████████████████| 5.8 MB 14.9 MB/s \n",
            "\u001b[K     |████████████████████████████████| 182 kB 89.9 MB/s \n",
            "\u001b[K     |████████████████████████████████| 7.6 MB 61.1 MB/s \n",
            "\u001b[?25h"
          ]
        }
      ],
      "source": [
        "import sys\n",
        "assert sys.version_info >= (3, 5)\n",
        "\n",
        "if \"google.colab\" in sys.modules:\n",
        "    %pip install -q -U tensorflow-addons\n",
        "    %pip install -q -U transformers\n",
        "\n",
        "import numpy as np\n",
        "import os\n",
        "import sklearn\n",
        "import pandas as pd\n",
        "import tensorflow as tf\n",
        "\n",
        "from collections import Counter\n",
        "\n",
        "from tensorflow import keras\n",
        "\n",
        "if not tf.config.list_physical_devices('GPU'):\n",
        "    print(\"No GPU\")\n",
        "\n",
        "np.random.seed(42)\n",
        "tf.random.set_seed(42)\n",
        "\n",
        "from sklearn.model_selection import train_test_split  \n",
        "from sklearn.metrics import confusion_matrix\n",
        "from tensorflow.keras import regularizers\n",
        "\n",
        "from matplotlib import pyplot as plt\n",
        "import random\n"
      ]
    },
    {
      "cell_type": "code",
      "source": [
        "! pip install kaggle\n",
        "! mkdir ~/.kaggle\n",
        "! cp kaggle.json ~/.kaggle/\n",
        "! chmod 600 ~/.kaggle/kaggle.json\n",
        "! kaggle datasets download lakshmi25npathi/imdb-dataset-of-50k-movie-reviews"
      ],
      "metadata": {
        "colab": {
          "base_uri": "https://localhost:8080/"
        },
        "id": "Km3wBkv_Aqo9",
        "outputId": "06ec4ce3-297b-46fe-9bb9-46a4d0776d9e"
      },
      "execution_count": null,
      "outputs": [
        {
          "output_type": "stream",
          "name": "stdout",
          "text": [
            "Looking in indexes: https://pypi.org/simple, https://us-python.pkg.dev/colab-wheels/public/simple/\n",
            "Requirement already satisfied: kaggle in /usr/local/lib/python3.8/dist-packages (1.5.12)\n",
            "Requirement already satisfied: urllib3 in /usr/local/lib/python3.8/dist-packages (from kaggle) (1.24.3)\n",
            "Requirement already satisfied: certifi in /usr/local/lib/python3.8/dist-packages (from kaggle) (2022.12.7)\n",
            "Requirement already satisfied: python-slugify in /usr/local/lib/python3.8/dist-packages (from kaggle) (7.0.0)\n",
            "Requirement already satisfied: requests in /usr/local/lib/python3.8/dist-packages (from kaggle) (2.23.0)\n",
            "Requirement already satisfied: python-dateutil in /usr/local/lib/python3.8/dist-packages (from kaggle) (2.8.2)\n",
            "Requirement already satisfied: tqdm in /usr/local/lib/python3.8/dist-packages (from kaggle) (4.64.1)\n",
            "Requirement already satisfied: six>=1.10 in /usr/local/lib/python3.8/dist-packages (from kaggle) (1.15.0)\n",
            "Requirement already satisfied: text-unidecode>=1.3 in /usr/local/lib/python3.8/dist-packages (from python-slugify->kaggle) (1.3)\n",
            "Requirement already satisfied: chardet<4,>=3.0.2 in /usr/local/lib/python3.8/dist-packages (from requests->kaggle) (3.0.4)\n",
            "Requirement already satisfied: idna<3,>=2.5 in /usr/local/lib/python3.8/dist-packages (from requests->kaggle) (2.10)\n",
            "mkdir: cannot create directory ‘/root/.kaggle’: File exists\n",
            "Downloading imdb-dataset-of-50k-movie-reviews.zip to /content\n",
            "100% 25.7M/25.7M [00:01<00:00, 35.4MB/s]\n",
            "100% 25.7M/25.7M [00:01<00:00, 22.0MB/s]\n"
          ]
        }
      ]
    },
    {
      "cell_type": "code",
      "source": [
        "! unzip imdb-dataset-of-50k-movie-reviews"
      ],
      "metadata": {
        "colab": {
          "base_uri": "https://localhost:8080/"
        },
        "id": "5vAQjfGPDfyR",
        "outputId": "dfcabeb3-aeb7-4a46-95af-6c9bd8ef9f66"
      },
      "execution_count": null,
      "outputs": [
        {
          "output_type": "stream",
          "name": "stdout",
          "text": [
            "Archive:  imdb-dataset-of-50k-movie-reviews.zip\n",
            "  inflating: IMDB Dataset.csv        \n"
          ]
        }
      ]
    },
    {
      "cell_type": "code",
      "source": [
        "all_data=pd.read_csv('IMDB Dataset.csv')"
      ],
      "metadata": {
        "id": "I6mkIZIHESyv"
      },
      "execution_count": null,
      "outputs": []
    },
    {
      "cell_type": "markdown",
      "source": [
        "# EDA:\n",
        "\n",
        "We now perform some basic exploratory data analysis. The IMDB dataset is a relatively standard dataset, so there is actually not too much to explore here, but it is still important to understand various features.\n",
        "\n",
        "The reviews are in html format, and we extract the relevant information by stripping formatting etc. (see below)."
      ],
      "metadata": {
        "id": "P3S9TSGeI1Ri"
      }
    },
    {
      "cell_type": "code",
      "source": [
        "# Count the number of positive and negative sentiments.\n",
        "\n",
        "all_data.groupby(['sentiment'])['sentiment'].count()"
      ],
      "metadata": {
        "colab": {
          "base_uri": "https://localhost:8080/"
        },
        "id": "PjDxxtMiI-id",
        "outputId": "ea94971f-e3db-4c8d-b356-d76659969d1a"
      },
      "execution_count": null,
      "outputs": [
        {
          "output_type": "execute_result",
          "data": {
            "text/plain": [
              "sentiment\n",
              "negative    25000\n",
              "positive    25000\n",
              "Name: sentiment, dtype: int64"
            ]
          },
          "metadata": {},
          "execution_count": 8
        }
      ]
    },
    {
      "cell_type": "code",
      "source": [
        "def all_words(X):\n",
        "  X=tf.strings.regex_replace(X,b\"<br\\\\s*/?>\",b\" \")\n",
        "  X=tf.strings.regex_replace(X,b\"[^a-zA-Z'0-9]\", b\" \")\n",
        "  X=tf.strings.regex_replace(X,b\"'\",\" \")\n",
        "  X=tf.strings.split(X)\n",
        "  return X\n",
        "\n",
        "lengths_pos = all_words(all_data.loc[all_data.sentiment=='positive']['review']).nested_row_lengths()[0].numpy()\n",
        "lengths_neg = all_words(all_data.loc[all_data.sentiment=='negative']['review']).nested_row_lengths()[0].numpy()\n"
      ],
      "metadata": {
        "id": "vtpEHxr3J3Hc"
      },
      "execution_count": null,
      "outputs": []
    },
    {
      "cell_type": "code",
      "source": [
        "# Sentence length\n",
        "\n",
        "from scipy.stats import ks_2samp\n",
        "\n",
        "n_bins = 100\n",
        "\n",
        "fig, axs = plt.subplots(1, 2, sharey=True, sharex=True, tight_layout=True);\n",
        "\n",
        "axs[0].hist(lengths_pos, bins=n_bins);\n",
        "axs[0].title.set_text(\"Positive Reviews\")\n",
        "\n",
        "axs[1].hist(lengths_neg, bins=n_bins);\n",
        "axs[1].title.set_text(\"Negative Reviews\")\n",
        "\n",
        "plt.show()\n",
        "\n",
        "print(f'Positive reviews: \\n\\\n",
        "Average length: {np.mean(lengths_pos)},\\n\\\n",
        "Standard deviation: {np.std(lengths_pos)},\\n\\\n",
        "Longest/Shortest review: {max(lengths_pos),min(lengths_pos)},\\n\\\n",
        "Nr of reviews over 1000/500/200/100: {[len(np.where(lengths_pos>i)[0]) for i in [1000,500,200,100]]}.')\n",
        "print('-----------------------------------------')\n",
        "print(f'Negative reviews: \\n\\\n",
        "Average length: {np.mean(lengths_neg)},\\n\\\n",
        "Standard deviation: {np.std(lengths_neg)},\\n\\\n",
        "Longest/Shortest review: {max(lengths_neg),min(lengths_neg)},\\n\\\n",
        "Nr of reviews over 1000/500/200/100: {[len(np.where(lengths_neg>i)[0]) for i in [1000,500,200,100]]}.')\n",
        "print('-----------------------------------------')\n",
        "print(f'According to the Kolmogorov-Smirnov test,\\\n",
        " p-value={ks_2samp(lengths_pos,lengths_neg)[1]:1.3g},\\\n",
        " the two statistics are not identical.')"
      ],
      "metadata": {
        "colab": {
          "base_uri": "https://localhost:8080/",
          "height": 523
        },
        "id": "mOpUEen4Kpyd",
        "outputId": "f5be4304-dc53-4e30-9bb0-5b2283f75482"
      },
      "execution_count": null,
      "outputs": [
        {
          "output_type": "display_data",
          "data": {
            "text/plain": [
              "<Figure size 432x288 with 2 Axes>"
            ],
            "image/png": "[encoded data removed]"
          },
          "metadata": {
            "needs_background": "light"
          }
        },
        {
          "output_type": "stream",
          "name": "stdout",
          "text": [
            "Positive reviews: \n",
            "Average length: 237.03616,\n",
            "Standard deviation: 180.42104237714182,\n",
            "Longest/Shortest review: (2505, 10),\n",
            "Nr of reviews over 1000/500/200/100: [124, 2195, 10481, 21740].\n",
            "-----------------------------------------\n",
            "Negative reviews: \n",
            "Average length: 234.08876,\n",
            "Standard deviation: 168.0129804558636,\n",
            "Longest/Shortest review: (1552, 6),\n",
            "Nr of reviews over 1000/500/200/100: [99, 1873, 10543, 22268].\n",
            "-----------------------------------------\n",
            "According to the Kolmogorov-Smirnov test, p-value=1.22e-07, the two statistics are not identical.\n"
          ]
        }
      ]
    },
    {
      "cell_type": "markdown",
      "source": [
        "### Conclusions I:\n",
        "\n",
        "\n",
        "\n",
        "*   Very few reviews are longer than 500 words.\n",
        "*   The length distribution of positive and negative reviews is quite different. In particular, negative reviews are on average shorter and less spread out than positive reviews.\n",
        "\n"
      ],
      "metadata": {
        "id": "SYcWB13K3Gna"
      }
    },
    {
      "cell_type": "code",
      "source": [
        "pos_words = all_words(all_data.loc[all_data.sentiment=='positive']['review']).values.numpy()\n",
        "neg_words = all_words(all_data.loc[all_data.sentiment=='negative']['review']).values.numpy()"
      ],
      "metadata": {
        "id": "_m1noBdaStRR"
      },
      "execution_count": null,
      "outputs": []
    },
    {
      "cell_type": "code",
      "source": [
        "pos_words_dict = Counter()\n",
        "pos_words_dict.update(pos_words)\n",
        "neg_words_dict = Counter()\n",
        "neg_words_dict.update(neg_words)"
      ],
      "metadata": {
        "id": "dpCBO38OS9um"
      },
      "execution_count": null,
      "outputs": []
    },
    {
      "cell_type": "code",
      "source": [
        "# Top postive/negative words within 2000 most common words\n",
        "# appearing in all reviews\n",
        "\n",
        "tog = pos_words_dict+neg_words_dict\n",
        "\n",
        "pos_score_dict=Counter()\n",
        "for w,_ in tog.most_common()[:2000]:\n",
        "  pos_score_dict[w]=pos_words_dict[w]/tog[w]\n",
        "\n",
        "neg_score_dict=Counter()\n",
        "for w,_ in tog.most_common()[:2000]:\n",
        "  neg_score_dict[w]=neg_words_dict[w]/tog[w]\n",
        "\n",
        "print(f'Positive words: \\\n",
        "{[x for x,y in pos_score_dict.most_common()[:5]]}\\n\\\n",
        "Percentage:     ', end='')\n",
        "print(['{:.3f}'.format(y) for x,y in pos_score_dict.most_common()[:5]])\n",
        "print('-----------------------------------------')\n",
        "print(f'Negative words: \\\n",
        "{[x for x,_ in neg_score_dict.most_common()[:5]]}\\n\\\n",
        "Percentage:     ', end='')\n",
        "print(['{:.3f}'.format(y) for _,y in neg_score_dict.most_common()[:5]])"
      ],
      "metadata": {
        "colab": {
          "base_uri": "https://localhost:8080/"
        },
        "id": "6_wFYYYvUpCt",
        "outputId": "ddb47c09-00fe-490c-d321-878b03b16378"
      },
      "execution_count": null,
      "outputs": [
        {
          "output_type": "stream",
          "name": "stdout",
          "text": [
            "Positive words: [b'wonderfully', b'beautifully', b'superb', b'outstanding', b'touching']\n",
            "Percentage:     ['0.880', '0.866', '0.855', '0.836', '0.835']\n",
            "-----------------------------------------\n",
            "Negative words: [b'waste', b'worst', b'redeeming', b'awful', b'poorly']\n",
            "Percentage:     ['0.938', '0.915', '0.911', '0.910', '0.905']\n"
          ]
        }
      ]
    },
    {
      "cell_type": "code",
      "source": [
        "all_words_per_sentence = all_words(all_data['review'])"
      ],
      "metadata": {
        "id": "tfrQVSLlcRBl"
      },
      "execution_count": null,
      "outputs": []
    },
    {
      "cell_type": "code",
      "source": [
        "nr_of_extreme_words = 10\n",
        "\n",
        "pos_words = tf.constant([x for x,_ in pos_score_dict.most_common()[:nr_of_extreme_words]])\n",
        "pos_word_ids = tf.range(nr_of_extreme_words,dtype=tf.int64)\n",
        "pos_dict_init = tf.lookup.KeyValueTensorInitializer(pos_words,pos_word_ids)\n",
        "pos_table = tf.lookup.StaticVocabularyTable(pos_dict_init, 1)\n",
        "\n",
        "\n",
        "neg_words = tf.constant([x for x,_ in neg_score_dict.most_common()[:nr_of_extreme_words]])\n",
        "neg_word_ids = tf.range(nr_of_extreme_words,dtype=tf.int64)\n",
        "neg_dict_init = tf.lookup.KeyValueTensorInitializer(neg_words,neg_word_ids)\n",
        "neg_table = tf.lookup.StaticVocabularyTable(neg_dict_init, 1)"
      ],
      "metadata": {
        "id": "5u02ZqavfA1_"
      },
      "execution_count": null,
      "outputs": []
    },
    {
      "cell_type": "code",
      "source": [
        "pos_where = tf.where(pos_table.lookup(all_words_per_sentence)!=nr_of_extreme_words).numpy()\n",
        "neg_where = tf.where(neg_table.lookup(all_words_per_sentence)!=nr_of_extreme_words).numpy()\n",
        "\n",
        "n_bins = 100\n",
        "\n",
        "# ----------- Absolute Position in Sentence -----------\n",
        "\n",
        "fig, axs = plt.subplots(1, 2, sharey=True, figsize=(10, 5));\n",
        "\n",
        "axs[0].hist(pos_where[:,1], bins=n_bins);\n",
        "axs[0].title.set_text(\"Top 10 Positive Words\")\n",
        "\n",
        "axs[1].hist(neg_where[:,1], bins=n_bins);\n",
        "axs[1].title.set_text(\"Top 10 Negative Words\")\n",
        "\n",
        "fig.suptitle('Absolute Position in Sentence:',fontsize=22)\n",
        "fig.tight_layout()\n",
        "fig.subplots_adjust(top=0.85)\n",
        "plt.show()\n",
        "\n",
        "# ----------- Relative Position in Sentence -----------\n",
        "\n",
        "fig, axs = plt.subplots(1, 2, sharey=True, figsize=(10, 5));\n",
        "\n",
        "axs[0].hist(pos_where[:,1]/pos_table.lookup(all_words_per_sentence).nested_row_lengths()[0].numpy()[pos_where[:,0]], bins=n_bins);\n",
        "axs[0].title.set_text(\"Top 10 Positive Words\")\n",
        "\n",
        "axs[1].hist(neg_where[:,1]/neg_table.lookup(all_words_per_sentence).nested_row_lengths()[0].numpy()[neg_where[:,0]], bins=n_bins);\n",
        "axs[1].title.set_text(\"Top 10 Negative Words\")\n",
        "\n",
        "fig.suptitle('Relative Position in Sentence:',fontsize=22)\n",
        "fig.subplots_adjust(top=0.85)\n",
        "plt.show()"
      ],
      "metadata": {
        "colab": {
          "base_uri": "https://localhost:8080/",
          "height": 712
        },
        "id": "_-hG0KpQtlQa",
        "outputId": "d050b5cb-d0d3-4bff-822e-41863a868f76"
      },
      "execution_count": null,
      "outputs": [
        {
          "output_type": "display_data",
          "data": {
            "text/plain": [
              "<Figure size 720x360 with 2 Axes>"
            ],
            "image/png": "[encoded data removed]"
          },
          "metadata": {
            "needs_background": "light"
          }
        },
        {
          "output_type": "display_data",
          "data": {
            "text/plain": [
              "<Figure size 720x360 with 2 Axes>"
            ],
            "image/png": "[encoded data removed]"
          },
          "metadata": {
            "needs_background": "light"
          }
        }
      ]
    },
    {
      "cell_type": "markdown",
      "source": [
        "### Conclusions II:\n",
        " \n",
        " \n",
        "*  It's interesting (and surprising to me) to see that negative words seem to be skewed towards the beginning and the end of reviews more so than positive words.\n",
        "*  The positive words are distributed rather uniformly among reviews.\n",
        "*  We learn that in order to interpret a sentence's sentiment, we should be careful to include all pieces of a review, and in particular the beginning and the end of reviews seem particularly important. This makes intuitive sense as reviewers probably state their overall conclusive feelings right away in the beginning or as a conclusion at the end of their reviews.\n",
        "*  From the absolute positions in a sentence it seems we are fine cutting off the reviews at around 500 words.\n",
        " \n",
        "We now proceed with discussing various approaches to \"learn\" sentiments from a given review.\n"
      ],
      "metadata": {
        "id": "fduYDb1o1gia"
      }
    },
    {
      "cell_type": "markdown",
      "source": [
        "# Approach 0: Naive baseline by counting top 100 good/bad words (82.3% Test accuracy)\n",
        " \n",
        "In this approach we first divide the data into training and test sets. Then we find the top 100 words associated with positive/negative reviews in the training set (essentially the same code as above). Finally, we evaluate the test set on whether we have more positive words or more negative words that appear in a given review (and with randomly selecting positive or negative sentiment on equality). This gives us a naive and basic baseline upon which we will try to improve further below.\n"
      ],
      "metadata": {
        "id": "0dJ7rNYF5-IW"
      }
    },
    {
      "cell_type": "code",
      "source": [
        "def pos_neg(x):\n",
        "  return 1 if x=='positive' else 0\n",
        "\n",
        "X_train0, X_test0, y_train0, y_test0 = train_test_split((all_data['review']), all_data['sentiment'].map(pos_neg),\\\n",
        "                                                    stratify=all_data['sentiment'].map(pos_neg), test_size=0.2, random_state=42)  \n",
        "\n",
        "Xy_train0=pd.DataFrame(data=X_train0)\n",
        "Xy_train0['sentiment']=y_train0\n",
        "\n",
        "p_train = all_words(Xy_train0.loc[Xy_train0.sentiment==1]['review']).values.numpy()\n",
        "n_train = all_words(Xy_train0.loc[Xy_train0.sentiment==0]['review']).values.numpy()\n",
        "\n",
        "p_train_words_dict = Counter()\n",
        "p_train_words_dict.update(p_train)\n",
        "n_train_words_dict = Counter()\n",
        "n_train_words_dict.update(n_train)\n",
        "\n",
        "tog = p_train_words_dict+n_train_words_dict\n",
        "\n",
        "pos_score_dict=Counter()\n",
        "for w,_ in tog.most_common()[:2000]:\n",
        "  pos_score_dict[w]=p_train_words_dict[w]/tog[w]\n",
        "\n",
        "neg_score_dict=Counter()\n",
        "for w,_ in tog.most_common()[:2000]:\n",
        "  neg_score_dict[w]=n_train_words_dict[w]/tog[w]\n",
        "\n",
        "top100_pos=[x for x,_ in pos_score_dict.most_common()[:100]]\n",
        "top100_neg=[x for x,_ in neg_score_dict.most_common()[:100]]\n",
        "\n",
        "nr_of_extreme_words = 100\n",
        "\n",
        "pos_words = tf.constant(top100_pos)\n",
        "pos_word_ids = tf.range(nr_of_extreme_words,dtype=tf.int64)\n",
        "pos_dict_init = tf.lookup.KeyValueTensorInitializer(pos_words,pos_word_ids)\n",
        "pos_table = tf.lookup.StaticVocabularyTable(pos_dict_init, 1)\n",
        "\n",
        "neg_words = tf.constant(top100_neg)\n",
        "neg_word_ids = tf.range(nr_of_extreme_words,dtype=tf.int64)\n",
        "neg_dict_init = tf.lookup.KeyValueTensorInitializer(neg_words,neg_word_ids)\n",
        "neg_table = tf.lookup.StaticVocabularyTable(neg_dict_init, 1)\n",
        "\n",
        "nr_pos_words=tf.where(pos_table.lookup(all_words(X_test0))!=nr_of_extreme_words).numpy()[:,0]\n",
        "nr_neg_words=tf.where(neg_table.lookup(all_words(X_test0))!=nr_of_extreme_words).numpy()[:,0]\n",
        "\n",
        "def sentiment(x):\n",
        "  posneg=tf.where(nr_pos_words==x).numpy().reshape(1,-1).shape[1]-tf.where(nr_neg_words==x).numpy().reshape(1,-1).shape[1]\n",
        "  if posneg>0:\n",
        "    return 1\n",
        "  elif posneg<0:\n",
        "    return 0\n",
        "  else:\n",
        "    return random.randint(0,1)\n",
        "\n",
        "predict_test=np.array([sentiment(x) for x in range(10000)])\n",
        "\n",
        "print('Test Accuracy: {:2.3}'.format(np.sum(predict_test==np.array(y_test0))/10000))\n",
        "print('Confusion matrix: ', np.array2string(confusion_matrix(np.array(y_test0),predict_test), prefix='Confusion matrix: '))"
      ],
      "metadata": {
        "colab": {
          "base_uri": "https://localhost:8080/"
        },
        "id": "W56z6rST6MCi",
        "outputId": "5c0f4b90-f536-4c0e-ba69-1c0a5b27d7f9"
      },
      "execution_count": null,
      "outputs": [
        {
          "output_type": "stream",
          "name": "stdout",
          "text": [
            "Test Accuracy: 0.823\n",
            "Confusion matrix:  [[4242  758]\n",
            "                   [1016 3984]]\n"
          ]
        }
      ]
    },
    {
      "cell_type": "markdown",
      "source": [
        "### Conclusions:\n",
        "\n",
        "*   With this basic model, we find that we correctly determine the sentiment in 82% of the test data.\n",
        "*   This is actually a decent score and any more sophisticated techniques  we deploy below, better improve on this score.\n",
        "\n"
      ],
      "metadata": {
        "id": "kFESPcKyDAIQ"
      }
    },
    {
      "cell_type": "markdown",
      "source": [
        "# Approach 1: RNN (88.8% test accuracy)\n",
        " \n",
        "Our first approach is to train a recurrent neural network (RNN) on the training data.\n",
        " \n",
        "1.  We strip all the html formatting, remove English “stopwords” (except negating words) and add their \"stem\" (via PorterStemmer) to a dictionary.\n",
        "2.  We keep negating words as we would like to be able to learn things such as \"this movie is not bad\", etc. If we were to remove \"not\", the learning algorithm would have as input \"this movie bad\", which would of course be misleading.\n",
        "3.  We keep up to 1000 words in a review. From the above EDA we found that keeping around 500 is more than sufficient. Nonetheless, the training wasn't significantly impacted by keeping more (we add a mask for the padding characters).\n",
        "4. We then put the 20000 most common words in a dictionary, and map each of these words to their respective bucket. Furthermore for words not in the dictionary we add 2000 OOV buckets. Notice that we are careful to only include the training data in defining the dictionary.\n",
        "5. Thus we get as an input a 1000-dimensional vector with integer entries (between 0 and 22000). We've ensured that the padding '' gets mapped to 0. That way we can apply a mask in the actual training of the RNN.\n",
        " \n",
        " \n",
        "Rmk: I'm aware that there are already implemented versions of this type of data preparation. However, I wanted to be able to explicitly control various aspects of it and therefore implemented the below version.\n"
      ],
      "metadata": {
        "id": "8I5iqO605AOl"
      }
    },
    {
      "cell_type": "code",
      "source": [
        "# remove html and other special chars\n",
        "# lower, split and output tensor of lenght = max_nr_of_words\n",
        "\n",
        "def preprocess_data(X, max_nr_of_words=1000):\n",
        "  #X=tf.strings.substr(X,0,nr_of_chars)\n",
        "  X=tf.strings.regex_replace(X,b\"<br\\\\s*/?>\",b\" \")\n",
        "  X=tf.strings.regex_replace(X,b\"[^a-zA-Z'0-9]\", b\" \")\n",
        "  X=tf.strings.regex_replace(X,b\"'\",\" \")\n",
        "  X=tf.strings.split(X)\n",
        "  return X.to_tensor(shape=[None,max_nr_of_words])"
      ],
      "metadata": {
        "id": "_hvDSKMJGhha"
      },
      "execution_count": null,
      "outputs": []
    },
    {
      "cell_type": "code",
      "source": [
        "import nltk\n",
        "from nltk.corpus import stopwords\n",
        "from nltk.stem import PorterStemmer\n",
        "\n",
        "ps = PorterStemmer()\n",
        "\n",
        "nltk.download('stopwords')\n",
        "stopword_set=set(stopwords.words('english'))\n",
        "negating_words = set(['not','no','nt','t'])\n",
        "stopword_set_neg = list(stopword_set-(negating_words))"
      ],
      "metadata": {
        "colab": {
          "base_uri": "https://localhost:8080/"
        },
        "id": "n_Z5wfWTO_YP",
        "outputId": "b0efa584-9f54-4325-cab3-2c53780907e6"
      },
      "execution_count": null,
      "outputs": [
        {
          "output_type": "stream",
          "name": "stderr",
          "text": [
            "[nltk_data] Downloading package stopwords to /root/nltk_data...\n",
            "[nltk_data]   Unzipping corpora/stopwords.zip.\n"
          ]
        }
      ]
    },
    {
      "cell_type": "markdown",
      "source": [
        "**Rmk:** We are careful to define the dictionary only based on the training data. Since we're cutting of the dictionary, including the test data would induce some bias."
      ],
      "metadata": {
        "id": "bRgtKbEfV613"
      }
    },
    {
      "cell_type": "code",
      "source": [
        "dictionary = Counter()\n",
        "processed_review = preprocess_data(Xy_train0['review'])\n",
        "\n",
        "for x in processed_review:\n",
        "  x1=list(x.numpy())\n",
        "  for wrd in x1:\n",
        "    if wrd.lower().decode(\"utf-8\") not in stopword_set_neg:\n",
        "      dictionary.update([bytes(ps.stem(wrd.lower().decode(\"utf-8\")), 'utf-8')])"
      ],
      "metadata": {
        "id": "HLkxMzKKPFSE"
      },
      "execution_count": null,
      "outputs": []
    },
    {
      "cell_type": "code",
      "source": [
        "dictionary_size = 20000\n",
        "\n",
        "truncated_dict=[word for word,count in dictionary.most_common()][:dictionary_size]\n",
        "\n",
        "words   = tf.constant(truncated_dict)\n",
        "word_ids = tf.range(len(truncated_dict),dtype=tf.int64)\n",
        "dict_init = tf.lookup.KeyValueTensorInitializer(words,word_ids)\n",
        "num_oov_buckets = 2000\n",
        "table = tf.lookup.StaticVocabularyTable(dict_init, num_oov_buckets)\n",
        "\n",
        "processed_review_token = table.lookup(preprocess_data(all_data['review']))"
      ],
      "metadata": {
        "id": "QjSZ_7RoVws3"
      },
      "execution_count": null,
      "outputs": []
    },
    {
      "cell_type": "code",
      "source": [
        "def pos_neg(x):\n",
        "  return 1 if x=='positive' else 0\n",
        "\n",
        "#all_data['y'] = all_data['sentiment'].map(pos_neg).to_numpy()\n",
        "y = all_data['sentiment'].map(pos_neg).to_numpy()"
      ],
      "metadata": {
        "id": "plQjUvCFm_Tc"
      },
      "execution_count": null,
      "outputs": []
    },
    {
      "cell_type": "code",
      "source": [
        "X_train, X_test, y_train, y_test = train_test_split(processed_review_token.numpy(), y,\\\n",
        "                                                    stratify=y, test_size=0.2, random_state=42)"
      ],
      "metadata": {
        "id": "MnorJo7mofSN"
      },
      "execution_count": null,
      "outputs": []
    },
    {
      "cell_type": "code",
      "source": [
        "sum(y_test)/y_test.shape[0]"
      ],
      "metadata": {
        "colab": {
          "base_uri": "https://localhost:8080/"
        },
        "id": "mTYTBxwiohwp",
        "outputId": "ac68585d-45c6-4594-c57e-277a99949c35"
      },
      "execution_count": null,
      "outputs": [
        {
          "output_type": "execute_result",
          "data": {
            "text/plain": [
              "0.5"
            ]
          },
          "metadata": {},
          "execution_count": 27
        }
      ]
    },
    {
      "cell_type": "markdown",
      "source": [
        "## Define Model: RNN\n",
        "\n",
        "1.   We now train a relatively basic RNN on the data processed above.\n",
        "2.   We add various regularization techniques to avoid overfitting the training set (large dropout rate + Tikhonov, sparsity-inducing regularizer)\n",
        "3. Furthermore, we determine the learning rate by doing a grid search over various options.\n",
        "\n"
      ],
      "metadata": {
        "id": "boUw0OhpC0O0"
      }
    },
    {
      "cell_type": "code",
      "source": [
        "embed_size = 128\n",
        "model = keras.models.Sequential([\n",
        "  keras.layers.Embedding(dictionary_size + num_oov_buckets,\n",
        "                          embed_size,\n",
        "                          mask_zero = True, \n",
        "                          input_shape = [None]),\n",
        "  keras.layers.Dropout(rate=0.7),\n",
        "  keras.layers.GRU(128, return_sequences = True,\\\n",
        "                    kernel_regularizer = regularizers.L1L2(l1=1e-5, l2=1e-4),\\\n",
        "                    bias_regularizer = regularizers.L2(1e-4),\\\n",
        "                    activity_regularizer = regularizers.L2(1e-5)),\n",
        "  keras.layers.Dropout(rate=0.5),\n",
        "  keras.layers.GRU(128,\\\n",
        "                    kernel_regularizer = regularizers.L1L2(l1=1e-5, l2=1e-4),\\\n",
        "                    bias_regularizer = regularizers.L2(1e-4),\\\n",
        "                    activity_regularizer = regularizers.L2(1e-5)),\n",
        "  keras.layers.Dropout(rate=0.5),\n",
        "  keras.layers.Dense(1, activation = \"sigmoid\")\n",
        "])\n",
        "model.compile(loss=\"binary_crossentropy\", optimizer=\"adam\", metrics=[\"accuracy\"])"
      ],
      "metadata": {
        "id": "poaEjy8x9gyP"
      },
      "execution_count": null,
      "outputs": []
    },
    {
      "cell_type": "code",
      "source": [
        "model.summary()"
      ],
      "metadata": {
        "colab": {
          "base_uri": "https://localhost:8080/"
        },
        "id": "2p9evct29eKg",
        "outputId": "9cdc97a4-d845-44b0-8f5c-9d17fceeeb7b"
      },
      "execution_count": null,
      "outputs": [
        {
          "output_type": "stream",
          "name": "stdout",
          "text": [
            "Model: \"sequential\"\n",
            "_________________________________________________________________\n",
            " Layer (type)                Output Shape              Param #   \n",
            "=================================================================\n",
            " embedding (Embedding)       (None, None, 128)         2816000   \n",
            "                                                                 \n",
            " dropout (Dropout)           (None, None, 128)         0         \n",
            "                                                                 \n",
            " gru (GRU)                   (None, None, 128)         99072     \n",
            "                                                                 \n",
            " dropout_1 (Dropout)         (None, None, 128)         0         \n",
            "                                                                 \n",
            " gru_1 (GRU)                 (None, 128)               99072     \n",
            "                                                                 \n",
            " dropout_2 (Dropout)         (None, 128)               0         \n",
            "                                                                 \n",
            " dense (Dense)               (None, 1)                 129       \n",
            "                                                                 \n",
            "=================================================================\n",
            "Total params: 3,014,273\n",
            "Trainable params: 3,014,273\n",
            "Non-trainable params: 0\n",
            "_________________________________________________________________\n"
          ]
        }
      ]
    },
    {
      "cell_type": "code",
      "source": [
        "'''\n",
        "pip install scikeras[tensorflow]\n",
        "\n",
        "from sklearn.model_selection import GridSearchCV\n",
        "from scikeras.wrappers import KerasClassifier\n",
        "\n",
        "\n",
        "Kmodel = KerasClassifier(model=model)\n",
        "\n",
        "learn_rate = [0.0001, 0.001, 0.01, 0.1, 0.2, 0.3]\n",
        "param_grid = dict(optimizer__learning_rate=learn_rate)\n",
        "\n",
        "grid = GridSearchCV(estimator=Kmodel, param_grid=param_grid, scoring = 'accuracy', n_jobs=1, cv=3)\n",
        "\n",
        "grid_result = grid.fit(X_train,y_train)\n",
        "\n",
        "'''"
      ],
      "metadata": {
        "id": "Pcy6YlZg9bDJ"
      },
      "execution_count": null,
      "outputs": []
    },
    {
      "cell_type": "code",
      "source": [
        "'''\n",
        "print(\"Best: %f using %s\" % (grid_result.best_score_, grid_result.best_params_))\n",
        "means = grid_result.cv_results_['mean_test_ascore']\n",
        "stds = grid_result.cv_results_['std_test_score']\n",
        "aparams = grid_result.cv_results_['params']\n",
        "for mean, stdev, param in zip(means, stds, params):\n",
        "    print(\"%f (%f) with: %r\" % (mean, stdev, param))\n",
        "'''"
      ],
      "metadata": {
        "colab": {
          "base_uri": "https://localhost:8080/"
        },
        "id": "gklLrYrwFxBZ",
        "outputId": "26379902-5c4d-453d-d59d-35231d05322f"
      },
      "execution_count": null,
      "outputs": [
        {
          "output_type": "stream",
          "name": "stdout",
          "text": [
            "Best: 0.848050 using {'optimizer__learning_rate': 0.01}\n",
            "0.808924 (0.051896) with: {'optimizer__learning_rate': 0.0001}\n",
            "0.846525 (0.012162) with: {'optimizer__learning_rate': 0.001}\n",
            "0.848050 (0.005026) with: {'optimizer__learning_rate': 0.01}\n",
            "0.807301 (0.026643) with: {'optimizer__learning_rate': 0.1}\n",
            "0.806324 (0.060059) with: {'optimizer__learning_rate': 0.2}\n",
            "0.841975 (0.003981) with: {'optimizer__learning_rate': 0.3}\n"
          ]
        }
      ]
    },
    {
      "cell_type": "code",
      "source": [
        "opt=keras.optimizers.Adam(learning_rate=0.01)\n",
        "\n",
        "model.compile(loss=\"binary_crossentropy\", optimizer=\"adam\", metrics=[\"accuracy\"])"
      ],
      "metadata": {
        "id": "8RHAYYYEF_jJ"
      },
      "execution_count": null,
      "outputs": []
    },
    {
      "cell_type": "code",
      "source": [
        "history = model.fit(X_train, y_train,\\\n",
        "                    validation_split = 0.1,\\\n",
        "                    shuffle = True,\\\n",
        "                    epochs = 5)"
      ],
      "metadata": {
        "colab": {
          "base_uri": "https://localhost:8080/"
        },
        "id": "amu8Rg86GPG_",
        "outputId": "59a9b28f-014f-4601-ba42-a50d01e27e44"
      },
      "execution_count": null,
      "outputs": [
        {
          "output_type": "stream",
          "name": "stdout",
          "text": [
            "Epoch 1/5\n",
            "1125/1125 [==============================] - 99s 79ms/step - loss: 0.5481 - accuracy: 0.7429 - val_loss: 0.3983 - val_accuracy: 0.8367\n",
            "Epoch 2/5\n",
            "1125/1125 [==============================] - 93s 83ms/step - loss: 0.3324 - accuracy: 0.8726 - val_loss: 0.2948 - val_accuracy: 0.8840\n",
            "Epoch 3/5\n",
            "1125/1125 [==============================] - 94s 83ms/step - loss: 0.2703 - accuracy: 0.9022 - val_loss: 0.3028 - val_accuracy: 0.8790\n",
            "Epoch 4/5\n",
            "1125/1125 [==============================] - 92s 82ms/step - loss: 0.2399 - accuracy: 0.9148 - val_loss: 0.2777 - val_accuracy: 0.8915\n",
            "Epoch 5/5\n",
            "1125/1125 [==============================] - 93s 83ms/step - loss: 0.2193 - accuracy: 0.9244 - val_loss: 0.2984 - val_accuracy: 0.8895\n"
          ]
        }
      ]
    },
    {
      "cell_type": "code",
      "source": [
        "# accuracy:\n",
        "\n",
        "plt.plot(history.history['accuracy'])\n",
        "plt.plot(history.history['val_accuracy'])\n",
        "plt.title('model accuracy')\n",
        "plt.ylabel('accuracy')\n",
        "plt.xlabel('epoch')\n",
        "plt.legend(['train', 'test'], loc='upper left')\n",
        "plt.show()\n",
        "\n",
        "# loss:\n",
        "plt.plot(history.history['loss'])\n",
        "plt.plot(history.history['val_loss'])\n",
        "plt.title('model loss')\n",
        "plt.ylabel('loss')\n",
        "plt.xlabel('epoch')\n",
        "plt.legend(['train', 'test'], loc='upper left')\n",
        "plt.show()"
      ],
      "metadata": {
        "colab": {
          "base_uri": "https://localhost:8080/",
          "height": 573
        },
        "outputId": "01b364b2-1294-41c5-ccd5-887e2bfab339",
        "id": "wKsw8N0X0o8y"
      },
      "execution_count": null,
      "outputs": [
        {
          "output_type": "display_data",
          "data": {
            "text/plain": [
              "<Figure size 432x288 with 1 Axes>"
            ],
            "image/png": "[encoded data removed]"
          },
          "metadata": {
            "needs_background": "light"
          }
        },
        {
          "output_type": "display_data",
          "data": {
            "text/plain": [
              "<Figure size 432x288 with 1 Axes>"
            ],
            "image/png": "[encoded data removed]"
          },
          "metadata": {
            "needs_background": "light"
          }
        }
      ]
    },
    {
      "cell_type": "code",
      "source": [
        "model.save_weights('./RNN')\n",
        "\n",
        "#model.load_weights('./RNN')"
      ],
      "metadata": {
        "id": "rbG4j1fddwva"
      },
      "execution_count": null,
      "outputs": []
    },
    {
      "cell_type": "code",
      "source": [
        "Test_pred=model.predict(X_test)\n",
        "y_pred=np.asarray(np.round(Test_pred).reshape(1,-1),dtype='int64')[0]\n",
        "\n",
        "print('Test Accuracy: {:2.3}'.format(1-np.sum(np.abs(y_pred-y_test))/y_test.shape[0]))\n",
        "print('Confusion matrix: ', np.array2string(confusion_matrix(y_test,y_pred), prefix='Confusion matrix: '))"
      ],
      "metadata": {
        "colab": {
          "base_uri": "https://localhost:8080/"
        },
        "id": "t_z-CYWc1EyW",
        "outputId": "6a6bec38-e22f-4d45-f51f-b886018faa69"
      },
      "execution_count": null,
      "outputs": [
        {
          "output_type": "stream",
          "name": "stdout",
          "text": [
            "313/313 [==============================] - 15s 42ms/step\n",
            "Test Accuracy: 0.888\n",
            "Confusion matrix:  [[4288  712]\n",
            "                   [ 410 4590]]\n"
          ]
        }
      ]
    },
    {
      "cell_type": "code",
      "source": [
        "model.predict(table.lookup(preprocess_data([b'This movie is not good', b\"This movie isn't good\", b\"This movie is awful\", b\"This movie could be amazing if it wasn't bad\"])))"
      ],
      "metadata": {
        "colab": {
          "base_uri": "https://localhost:8080/"
        },
        "id": "qPNKn7jWhDLU",
        "outputId": "fbde8ebf-87fd-4a5b-bc7b-040c5c793440"
      },
      "execution_count": null,
      "outputs": [
        {
          "output_type": "stream",
          "name": "stdout",
          "text": [
            "1/1 [==============================] - 0s 19ms/step\n"
          ]
        },
        {
          "output_type": "execute_result",
          "data": {
            "text/plain": [
              "array([[0.10332723],\n",
              "       [0.2067515 ],\n",
              "       [0.0326689 ],\n",
              "       [0.23572882]], dtype=float32)"
            ]
          },
          "metadata": {},
          "execution_count": 35
        }
      ]
    },
    {
      "cell_type": "code",
      "source": [
        "X_train1,X_test1,y_train1, y_test1=train_test_split(all_data['review'], y,\\\n",
        "                                                    stratify=y, test_size=0.2, random_state=42) \n",
        "\n",
        "for x in np.where((np.round(y_pred)!=y_test))[0][:3]:\n",
        "  new_sent=[]\n",
        "  for w in X_test[x]:\n",
        "    if w!=0 and w<10000:\n",
        "      new_sent.append(truncated_dict[w])\n",
        "  print(x,('positive' if y_test[x]==1 else 'negative'),Test_pred[x],\n",
        "        X_test1.to_numpy()[x]\n",
        "        )\n",
        "  print([new_sent])"
      ],
      "metadata": {
        "colab": {
          "base_uri": "https://localhost:8080/"
        },
        "id": "SsZBOtSAxrJ3",
        "outputId": "f314ca4d-f487-4810-b553-4ed11c10c248"
      },
      "execution_count": null,
      "outputs": [
        {
          "output_type": "stream",
          "name": "stdout",
          "text": [
            "1 negative [0.9307486] The story of the bride fair is an amusing and engaging one, and it is to the filmmaker's credit that he sets out to portray rural Minnesotans with the same respect ordinarily reserved for Coast-dwellers. It is weird, though, to find an independent movie, the brainchild of a single person, that is as unambitious and cliché-ridden as a committee-brewed Hollywood potboiler.<br /><br />The portrait of rural people is intended to be affectionate, I think, but these characters don't ring true to me--I have had quite a few meals in small-town diners, but never overheard a debate on the merits of different nineteenth-century English novelists. One might suggest that writer/director Semans has no more experience with rural culture than the Coen brothers, and considerably less satiric verve.\n",
            "[[b'of', b'bride', b'fair', b'one', b'credit', b'that', b'he', b'out', b'portray', b'rural', b'respect', b'weird', b'though', b'find', b'of', b'person', b'that', b'clich', b'ridden', b'portrait', b'of', b'rural', b'be', b'think', b'don', b't', b'ring', b'true', b'in', b'small', b'town', b'never', b'of', b'might', b'suggest', b'that', b'writer', b'director', b'no', b'more', b'rural', b'less']]\n",
            "3 negative [0.7896299] This was a popular movie probably because of the humor in it, the fast-moving story, an underdog character who shuts up all the loudmouths, etc. Funny thing is, you probably couldn't make a movie with this title if you substituted anybody but \"white\" as anything else would be deemed racist by the PC police. <br /><br />Nonetheless, Woody Harrleson as the white guy who turns out to be as good if not better than any of the black basketball players, is interesting as is his main counterpart Wesley Snipes.<br /><br />Snipes had a lot of funny put-down lines, providing much of the humor. The bad part of the film - which doesn't bother a lot of people - is the extreme profanity in here and the sleaziness of all the characters. That includes Woody's girlfriend, played by Rosie Perez. There are no really clean, nice people in this movie. For that reason, I can't honestly recommend the film, at least not to friends or those who are offended by a lotof profanity\n",
            "[[b'popular', b'of', b'humor', b'in', b'fast', b'underdog', b'character', b'up', b'etc', b'thing', b't', b'make', b'white', b'would', b'be', b'racist', b'white', b'guy', b'out', b'be', b'good', b'not', b'better', b'of', b'black', b'main', b'counterpart', b'lot', b'of', b'put', b'down', b'much', b'of', b'humor', b'bad', b'part', b'of', b'film', b't', b'bother', b'lot', b'of', b'in', b'here', b'of', b'girlfriend', b'no', b'clean', b'nice', b'in', b'that', b'reason', b'can', b't', b'recommend', b'film', b'least', b'not']]\n",
            "8 negative [0.878065] There is a uk edition to this show which is rather less extravagant than the US version. The person concerned will get a new kitchen or perhaps bedroom and bathroom and is wonderfully grateful for what they have got. The US version of this show is everything that reality TV shouldn't be. Instead of making a few improvements to a house which the occupants could not afford or do themselves the entire house gets rebuilt. I do not know if this show is trying to show what a lousy welfare system exists in the US or if you beg hard enough you will receive. The rather vulgar product placement that takes place, particularly by Sears, is also uncalled for. Rsther than turning one family in a deprived area into potential millionaires, it would be far better to help the community as a whole where instead of spending the hundreds of thousands of dollars on one home, build something for the whole community ..... perhaps a place where diy and power tools can be borrowed and returned along with building materials so that everyone can benefit should they want to. Giving it all to one person can cause enormous resentment among the rest of the local community who still live in the same run down houses.\n",
            "[[b'uk', b'show', b'rather', b'less', b'version', b'person', b'will', b'get', b'new', b'kitchen', b'bedroom', b'bathroom', b'what', b'got', b'version', b'of', b'show', b'that', b't', b'be', b'of', b'could', b'not', b'afford', b'not', b'know', b'show', b'show', b'what', b'system', b'in', b'beg', b'hard', b'enough', b'will', b'rather', b'vulgar', b'product', b'placement', b'that', b'place', b'also', b'one', b'in', b'area', b'would', b'be', b'far', b'better', b'help', b'whole', b'instead', b'of', b'of', b'of', b'one', b'home', b'build', b'whole', b'place', b'power', b'can', b'be', b'along', b'that', b'can', b'benefit', b'want', b'one', b'person', b'can', b'among', b'rest', b'of', b'local', b'still', b'live', b'in', b'run', b'down']]\n"
          ]
        }
      ]
    },
    {
      "cell_type": "markdown",
      "source": [
        "### Conclusions:\n",
        "\n",
        "* We find a marked improvement in test accuracy to ~88-89% to Approach 0 by using an RNN. I tweaked various parameters but was not able to achieve better test-accuracy scores. Increasing the size of the model only starts to overfit, and it seems we would need more data to improve on the score with such models.\n",
        "* It is interesting to see that negated sentences such as 'This movie is not good' get classified correctly (and well at that). This indeed shows that the RNN takes 'causal' structures into account. (We will see below that a purely word-sentiment type approach does not classify these types of statements correctly.)\n",
        "* Finally, we test a few of the incorrectly classified reviews. From these, it is clear that the model struggles with more complex types of sentence structures. I assume it would require more data and a larger model to do so.\n",
        "\n"
      ],
      "metadata": {
        "id": "aTgm2eX_M_s_"
      }
    },
    {
      "cell_type": "markdown",
      "source": [
        "# Approach 2: Vectorize input + Logistic Regression/LGBM/...\n",
        " \n",
        "In our second approach, we employ a standard bag-of-words model, where we map a given review to a 10000 dimensional (sparse) vector. A unit vector in this 10000 dimensional vector space encodes a word in a length-10000 dictionary (of the most common words appearing in the training set). Again, we are careful to define the dictionary only based on the training data.\n",
        "\n",
        "On this prepared data we then apply 4 different models (**Logistic Regression**, **Decision Trees**, **Naive Bayes** and **Light GBM**). Both Logistic Regression and LGBM achieve relatively high scores (88%,89% test accuracy).\n",
        " \n",
        "**Remarks/Conclusions:**\n",
        " \n",
        "*  With this type of approach we lose the \"causal\" structure of a sentence/review, and we are solely interested in an \"averaged\" score of word sentiments within a review.\n",
        "*  In particular, this means that a model trained on this input will predict a sentiment score for any word in the 10000 dimensional dictionary -- i.e. it will output a probability that a given word is found in a positive/negative review.\n",
        "* As we shall see below, this type of approach will not be able to discern a sentence like \"this movie is not good\", as \"not\" naturally has a sentiment score of ~0.5. One attempt to account for such types of sentences is to add negated combinations such as \"not good\" to the dictionary as \"not_good\". This will then receive a negative sentiment score. However, then problems arise with combinations such as \"not very good\". I've implemented a few such approaches \"by hand\" but was not able to achieve significantly improved test scores.\n",
        "* Nonetheless, we achieve a score of ~88-89% test accuracy, which is similar to what we achieved in the RNN approach (which does respect causal structures of a sentence).\n"
      ],
      "metadata": {
        "id": "ANhc7joFn2Vy"
      }
    },
    {
      "cell_type": "code",
      "source": [
        "def pos_neg(x):\n",
        "  return 1 if x=='positive' else 0\n",
        "\n",
        "#all_data['y'] = all_data['sentiment'].map(pos_neg).to_numpy()\n",
        "y = all_data['sentiment'].map(pos_neg).to_numpy()"
      ],
      "metadata": {
        "id": "rhT1deoou9f2"
      },
      "execution_count": null,
      "outputs": []
    },
    {
      "cell_type": "code",
      "source": [
        "negating_words = set(['not','no','nt','t'])\n",
        "stopword_set_neg = list(stopword_set-(negating_words))"
      ],
      "metadata": {
        "id": "Ls1FlC_Z2Lje"
      },
      "execution_count": null,
      "outputs": []
    },
    {
      "cell_type": "code",
      "source": [
        "apply_stem=np.vectorize(lambda x: bytes(ps.stem(x.decode('utf-8')), 'utf-8'))\n",
        "\n",
        "def preprocess_data_for_vec(X, nr_of_chars=100000, max_nr_of_words=1000):\n",
        "  #X=tf.strings.substr(X,0,nr_of_chars)\n",
        "  X=tf.strings.regex_replace(X,b\"<br\\\\s*/?>\",b\" \")\n",
        "  X=tf.strings.regex_replace(X,b\"[^a-zA-Z']\", b\" \")\n",
        "  X=tf.strings.regex_replace(X,b\"'\",\" \")\n",
        "  X=tf.strings.lower(X)\n",
        "  X=tf.strings.regex_replace(X, r'\\b(' + r'|'.join(stopword_set_neg) + r')\\b\\s*',\"\")\n",
        "  return X"
      ],
      "metadata": {
        "id": "vf4r9vy-r7iU"
      },
      "execution_count": null,
      "outputs": []
    },
    {
      "cell_type": "code",
      "source": [
        "processed_review_for_vec = preprocess_data_for_vec(all_data['review'])"
      ],
      "metadata": {
        "id": "4Unk8HWgti1Q"
      },
      "execution_count": null,
      "outputs": []
    },
    {
      "cell_type": "code",
      "source": [
        "X_train_v, X_test_v, y_train_v, y_test_v = train_test_split(processed_review_for_vec.numpy(), y,\\\n",
        "                                                    stratify=y, test_size=0.2, random_state=42)  "
      ],
      "metadata": {
        "id": "M6vHvH2RdAtV"
      },
      "execution_count": null,
      "outputs": []
    },
    {
      "cell_type": "code",
      "source": [
        "from sklearn.feature_extraction.text import CountVectorizer\n",
        "\n",
        "vectorizer = CountVectorizer(max_features = 10000)\n",
        "\n",
        "X_train_v = vectorizer.fit_transform(X_train_v).toarray()\n",
        "X_test_v = vectorizer.transform(X_test_v).toarray()"
      ],
      "metadata": {
        "id": "use2qr2EcDI_"
      },
      "execution_count": null,
      "outputs": []
    },
    {
      "cell_type": "markdown",
      "source": [
        "## a.) Logistic Regression (87.9% test accuracy)"
      ],
      "metadata": {
        "id": "zkvwwznT6y97"
      }
    },
    {
      "cell_type": "code",
      "source": [
        "from sklearn.linear_model import LogisticRegression\n",
        "\n",
        "logistic_reg = LogisticRegression(max_iter=100) #max_iter=500\n",
        "logistic_reg.fit(X_train_v, y_train_v)"
      ],
      "metadata": {
        "colab": {
          "base_uri": "https://localhost:8080/"
        },
        "id": "hpEZrytKx6bf",
        "outputId": "32575b7e-9517-443c-a470-1936d1f321bd"
      },
      "execution_count": null,
      "outputs": [
        {
          "output_type": "stream",
          "name": "stderr",
          "text": [
            "/usr/local/lib/python3.8/dist-packages/sklearn/linear_model/_logistic.py:814: ConvergenceWarning: lbfgs failed to converge (status=1):\n",
            "STOP: TOTAL NO. of ITERATIONS REACHED LIMIT.\n",
            "\n",
            "Increase the number of iterations (max_iter) or scale the data as shown in:\n",
            "    https://scikit-learn.org/stable/modules/preprocessing.html\n",
            "Please also refer to the documentation for alternative solver options:\n",
            "    https://scikit-learn.org/stable/modules/linear_model.html#logistic-regression\n",
            "  n_iter_i = _check_optimize_result(\n"
          ]
        },
        {
          "output_type": "execute_result",
          "data": {
            "text/plain": [
              "LogisticRegression()"
            ]
          },
          "metadata": {},
          "execution_count": 49
        }
      ]
    },
    {
      "cell_type": "code",
      "source": [
        "y_pred_v = logistic_reg.predict(X_test_v)"
      ],
      "metadata": {
        "id": "SkSd9iaT7PG-"
      },
      "execution_count": null,
      "outputs": []
    },
    {
      "cell_type": "code",
      "source": [
        "#print('Train Accuracy: {:2.2}'.format(1-np.sum(np.abs(logistic_reg.predict(X_train_v)-y_train_v))/y_train_v.shape[0]))\n",
        "print('Test Accuracy: {:2.3}'.format(1-np.sum(np.abs(y_pred_v-y_test_v))/y_test_v.shape[0]))\n",
        "print('Confusion matrix: ', np.array2string(confusion_matrix(y_test_v,y_pred_v), prefix='Confusion matrix: '))"
      ],
      "metadata": {
        "colab": {
          "base_uri": "https://localhost:8080/"
        },
        "id": "QH-B6wfRako1",
        "outputId": "1382fb7a-f69a-4795-c1e3-9eb76145e834"
      },
      "execution_count": null,
      "outputs": [
        {
          "output_type": "stream",
          "name": "stdout",
          "text": [
            "Test Accuracy: 0.879\n",
            "Confusion matrix:  [[4380  620]\n",
            "                   [ 587 4413]]\n"
          ]
        }
      ]
    },
    {
      "cell_type": "markdown",
      "source": [
        "**Rmk:**  As we see below, negated phrases such as \"this movie is not bad\" and  \"this movie is not very good\" are misclassified with this approach."
      ],
      "metadata": {
        "id": "pYDjP1RkbTNJ"
      }
    },
    {
      "cell_type": "code",
      "source": [
        "phrases=[\"This movie is not bad\",\"This film is not very good\",\"This movie isn't bad\"]\n",
        "pr_pred=logistic_reg.predict(vectorizer.transform(preprocess_data_for_vec(phrases).numpy()))\n",
        "pr_pred_probab=logistic_reg.predict_proba(vectorizer.transform(preprocess_data_for_vec(phrases).numpy()))\n",
        "\n",
        "def predfn(x): \n",
        "  if x==1:\n",
        "    return 'positive'\n",
        "  else:\n",
        "    return 'negative'\n",
        "\n",
        "print(f'Phrases: {[phrase for phrase in phrases]}')\n",
        "print(f'Prediction for phrases: {[predfn(x) for x in pr_pred]}')\n",
        "print(f'Prediction probability for phrases: {[round(x,3) for x in pr_pred_probab[:,1].tolist()]}')"
      ],
      "metadata": {
        "colab": {
          "base_uri": "https://localhost:8080/"
        },
        "id": "Izp-12Zt569I",
        "outputId": "2ec42c14-04ad-42b3-8bcc-bffe0a683609"
      },
      "execution_count": null,
      "outputs": [
        {
          "output_type": "stream",
          "name": "stdout",
          "text": [
            "Phrases: ['This movie is not bad', 'This film is not very good', \"This movie isn't bad\"]\n",
            "Prediction for phrases: ['negative', 'positive', 'negative']\n",
            "Prediction probability for phrases: [0.287, 0.548, 0.331]\n"
          ]
        }
      ]
    },
    {
      "cell_type": "markdown",
      "source": [
        "## b.) Decision Trees (72% test accuracy)"
      ],
      "metadata": {
        "id": "q3wIMT1G9BAg"
      }
    },
    {
      "cell_type": "code",
      "source": [
        "from sklearn.tree import DecisionTreeClassifier\n",
        "\n",
        "dec_tree = DecisionTreeClassifier()\n",
        "dec_tree.fit(X_train_v, y_train_v)"
      ],
      "metadata": {
        "colab": {
          "base_uri": "https://localhost:8080/"
        },
        "id": "9JMu9b_y8Dg-",
        "outputId": "dcd57c39-5e6c-4cbb-e8be-c639f953b964"
      },
      "execution_count": null,
      "outputs": [
        {
          "output_type": "execute_result",
          "data": {
            "text/plain": [
              "DecisionTreeClassifier()"
            ]
          },
          "metadata": {},
          "execution_count": 45
        }
      ]
    },
    {
      "cell_type": "code",
      "source": [
        "y_pred_v = dec_tree.predict(X_test_v)\n",
        "\n",
        "print('Train Accuracy: {:2.2}'.format(1-np.sum(np.abs(dec_tree.predict(X_train_v)-y_train_v))/y_train_v.shape[0]))\n",
        "print('Test Accuracy: {:2.2}'.format(1-np.sum(np.abs(y_pred_v-y_test))/y_test_v.shape[0]))\n",
        "print('Confusion matrix: ', np.array2string(confusion_matrix(y_test_v,y_pred_v), prefix='Confusion matrix: '))"
      ],
      "metadata": {
        "colab": {
          "base_uri": "https://localhost:8080/"
        },
        "id": "esVAABqe2R6J",
        "outputId": "8aeb863c-f8c0-40d2-f710-a3dd4f78143d"
      },
      "execution_count": null,
      "outputs": [
        {
          "output_type": "stream",
          "name": "stdout",
          "text": [
            "Train Accuracy: 1.0\n",
            "Test Accuracy: 0.72\n",
            "Confusion matrix:  [[3642 1358]\n",
            "                   [1394 3606]]\n"
          ]
        }
      ]
    },
    {
      "cell_type": "markdown",
      "source": [
        "## c.) Naive Bayes (72% test accuracy)"
      ],
      "metadata": {
        "id": "WyohxtjW85SP"
      }
    },
    {
      "cell_type": "code",
      "source": [
        "from sklearn.naive_bayes import GaussianNB\n",
        "\n",
        "gnb = GaussianNB()\n",
        "gnb.fit(X_train_v, y_train_v)"
      ],
      "metadata": {
        "colab": {
          "base_uri": "https://localhost:8080/"
        },
        "id": "e6z3ljUE8LUJ",
        "outputId": "555d247e-ade9-493b-f65b-c2e0842cf70a"
      },
      "execution_count": null,
      "outputs": [
        {
          "output_type": "execute_result",
          "data": {
            "text/plain": [
              "GaussianNB()"
            ]
          },
          "metadata": {},
          "execution_count": 47
        }
      ]
    },
    {
      "cell_type": "code",
      "source": [
        "y_pred_v = gnb.predict(X_test_v)\n",
        "\n",
        "print('Train Accuracy: {:2.2}'.format(1-np.sum(np.abs(gnb.predict(X_train_v)-y_train_v))/y_train_v.shape[0]))\n",
        "print('Test Accuracy: {:2.2}'.format(1-np.sum(np.abs(y_pred_v-y_test_v))/y_test_v.shape[0]))\n",
        "print('Confusion matrix: ', np.array2string(confusion_matrix(y_test_v,y_pred_v), prefix='Confusion matrix: '))"
      ],
      "metadata": {
        "colab": {
          "base_uri": "https://localhost:8080/"
        },
        "id": "CLAiRs902Yzs",
        "outputId": "439a16b7-50b2-479f-a33f-e919461e1174"
      },
      "execution_count": null,
      "outputs": [
        {
          "output_type": "stream",
          "name": "stdout",
          "text": [
            "Train Accuracy: 0.77\n",
            "Test Accuracy: 0.72\n",
            "Confusion matrix:  [[4285  715]\n",
            "                   [2063 2937]]\n"
          ]
        }
      ]
    },
    {
      "cell_type": "markdown",
      "source": [
        "## d.) Light GBM (89.6% test accuracy)"
      ],
      "metadata": {
        "id": "AfalSypsINZK"
      }
    },
    {
      "cell_type": "code",
      "source": [
        "from lightgbm import LGBMClassifier\n",
        "\n",
        "from sklearn.model_selection import GridSearchCV"
      ],
      "metadata": {
        "id": "3RjNwOdrIevW"
      },
      "execution_count": null,
      "outputs": []
    },
    {
      "cell_type": "code",
      "source": [
        "lgbm_model = LGBMClassifier()"
      ],
      "metadata": {
        "id": "th7_yKM3PRoG"
      },
      "execution_count": null,
      "outputs": []
    },
    {
      "cell_type": "code",
      "source": [
        "parameters = {\n",
        "  'n_estimators': [100, 200, 500],\n",
        "  'num_leaves': [7, 15, 31, 63, 127]\n",
        "}\n",
        "\n",
        "gsearch_lgb = GridSearchCV(LGBMClassifier(random_state=0), parameters, scoring = 'accuracy', cv = 5)\n",
        "gsearch_lgb.fit(X_train_v,y_train_v)\n"
      ],
      "metadata": {
        "id": "p-TMsnhBlsvk"
      },
      "execution_count": null,
      "outputs": []
    },
    {
      "cell_type": "code",
      "source": [
        "print('best params')\n",
        "print (gsearch_lgb.best_params_)\n",
        "preds_lgb_model = gsearch_lgb.predict(X_test_v)\n",
        "#rmse_lgb = np.sqrt(mean_squared_error(y_test_v, preds_lgb_model))\n",
        "#print(\" RMSE: %f\" % (rmse_lgb ))"
      ],
      "metadata": {
        "colab": {
          "base_uri": "https://localhost:8080/"
        },
        "id": "a7mfyK9clQK6",
        "outputId": "bd56a117-e66a-486a-eef4-0a3c0a1bed13"
      },
      "execution_count": null,
      "outputs": [
        {
          "output_type": "stream",
          "name": "stdout",
          "text": [
            "best params\n",
            "{'n_estimators': 500, 'num_leaves': 127}\n"
          ]
        }
      ]
    },
    {
      "cell_type": "code",
      "source": [
        "params = {'n_estimators': 500,'num_leaves' : 127}\n",
        "\n",
        "gbm = LGBMClassifier(**params).fit(X_train_v, y_train_v)\n",
        "#gbm = LGBMClassifier().fit(X_train_v, y_train_v)"
      ],
      "metadata": {
        "id": "OUeM_jMNIO09"
      },
      "execution_count": null,
      "outputs": []
    },
    {
      "cell_type": "code",
      "source": [
        "y_pred_vgbm = gbm.predict(X_test_v)\n",
        "\n",
        "print('Train Accuracy: {:2.3}'.format(1-np.sum(np.abs(gbm.predict(X_train_v)-y_train_v))/y_train_v.shape[0]))\n",
        "print('Test Accuracy: {:2.3}'.format(1-np.sum(np.abs(y_pred_vgbm-y_test_v))/y_test_v.shape[0]))\n",
        "print('Confusion matrix: ', np.array2string(confusion_matrix(y_test_v,y_pred_vgbm), prefix='Confusion matrix: '))"
      ],
      "metadata": {
        "colab": {
          "base_uri": "https://localhost:8080/"
        },
        "id": "A1lUQOVjMwBU",
        "outputId": "00c80e5a-54c9-464d-c4d4-d7f4a2ff1bae"
      },
      "execution_count": null,
      "outputs": [
        {
          "output_type": "stream",
          "name": "stdout",
          "text": [
            "Train Accuracy: 1.0\n",
            "Test Accuracy: 0.896\n",
            "Confusion matrix:  [[4472  528]\n",
            "                   [ 512 4488]]\n"
          ]
        }
      ]
    },
    {
      "cell_type": "code",
      "source": [
        "y_pred_vgbm_proba = gbm.predict_proba(X_test_v)[:,1]"
      ],
      "metadata": {
        "id": "702cj837RtkU"
      },
      "execution_count": null,
      "outputs": []
    },
    {
      "cell_type": "markdown",
      "source": [
        " \n",
        "# Approach 3: Combine three different models (91% test accuracy)\n",
        " \n",
        "In Approach 1, we trained a model with causal structures while in Approach 2, we\n",
        "train models solely on the words in their reviews. It is natural to combine the two approaches ('ensemble learning'). We weigh the probability predictions arising from the Logistic Regression, the LGBM and the RNN model equally (1/3 each) and predict according to the aggregated score. By doing so, we achieve an improved score of 91% test accuracy.\n",
        "\n",
        "## 1/3 * RNN+1/3 * Logistic+1/3 * LGBM"
      ],
      "metadata": {
        "id": "KGNOywHItNMY"
      }
    },
    {
      "cell_type": "code",
      "source": [
        "y_pred_vlogistic_proba = logistic_reg.predict_proba(X_test_v)[:,1]\n",
        "\n",
        "test_pred_perc=Test_pred.reshape(1,-1)[0]\n",
        "\n",
        "y_pred_together=np.array([round(y_pred_vlogistic_proba[i]/3+test_pred_perc[i]/3+y_pred_vgbm_proba[i]/3) for i in range(10000)])"
      ],
      "metadata": {
        "id": "Tg5En8f0vzEv"
      },
      "execution_count": null,
      "outputs": []
    },
    {
      "cell_type": "code",
      "source": [
        "# 1:1:1 weighting\n",
        "\n",
        "print('Test Accuracy: {:2.6}'.format(1-np.sum(np.abs(y_pred_together-y_test))/y_test.shape[0]))"
      ],
      "metadata": {
        "colab": {
          "base_uri": "https://localhost:8080/"
        },
        "id": "DRXroXMtngJj",
        "outputId": "60845f22-7f9b-427a-8c48-988f5ad2002e"
      },
      "execution_count": null,
      "outputs": [
        {
          "output_type": "stream",
          "name": "stdout",
          "text": [
            "Test Accuracy: 0.9103\n"
          ]
        }
      ]
    },
    {
      "cell_type": "markdown",
      "source": [
        "# Approach 4: Reusing Pretrained Embedding\n",
        " \n",
        "In this approach we build upon already existing/pre-trained word-embeddings. In particular, we focus on two existing models:\n",
        " \n",
        "1. **nnlm-en-dim50:** A relatively small embedding mapping sentences/reviews to a 50 dimensional vector.\n",
        "2. **universal-sentence-encoder:** A somewhat larger embedding, mapping to 1000 dimensional vectors.\n"
      ],
      "metadata": {
        "id": "RMMqdJfPE1VB"
      }
    },
    {
      "cell_type": "code",
      "source": [
        "import tensorflow_hub as hub"
      ],
      "metadata": {
        "id": "L2sywA6AE5tk"
      },
      "execution_count": null,
      "outputs": []
    },
    {
      "cell_type": "code",
      "source": [
        "embed = hub.load(\"https://tfhub.dev/google/nnlm-en-dim50/2\")"
      ],
      "metadata": {
        "id": "BmGFz1DzggFz"
      },
      "execution_count": null,
      "outputs": []
    },
    {
      "cell_type": "code",
      "source": [
        "embed_large = hub.load(\"https://tfhub.dev/google/universal-sentence-encoder/4\")"
      ],
      "metadata": {
        "id": "UtAwMlJpCbV9"
      },
      "execution_count": null,
      "outputs": []
    },
    {
      "cell_type": "markdown",
      "source": [
        "## a.) nnlm-en-dim50 + logistic regression (77% test accuracy)"
      ],
      "metadata": {
        "id": "G113aw1AU5rX"
      }
    },
    {
      "cell_type": "code",
      "source": [
        "embeddings = embed(processed_review_for_vec)\n",
        "\n",
        "X_train_emb, X_test_emb, y_train_emb, y_test_emb = train_test_split(embeddings.numpy(), y,\\\n",
        "                                                    stratify=y, test_size=0.2, random_state=42)  "
      ],
      "metadata": {
        "id": "ehcIr-5sTE9D"
      },
      "execution_count": null,
      "outputs": []
    },
    {
      "cell_type": "code",
      "source": [
        "from sklearn.linear_model import LogisticRegression\n",
        "from sklearn.preprocessing import StandardScaler\n",
        "\n",
        "scaler=StandardScaler()\n",
        "\n",
        "X_train_emb=scaler.fit_transform(X_train_emb)\n",
        "X_test_emb=scaler.fit_transform(X_test_emb)\n",
        "\n",
        "logistic_reg_emb = LogisticRegression() #max_iter=500\n",
        "logistic_reg_emb.fit(X_train_emb, y_train_emb)"
      ],
      "metadata": {
        "colab": {
          "base_uri": "https://localhost:8080/"
        },
        "outputId": "95dcf65c-055f-40c1-d8db-c42a17f13689",
        "id": "ovZ4pARdhJcU"
      },
      "execution_count": null,
      "outputs": [
        {
          "output_type": "execute_result",
          "data": {
            "text/plain": [
              "LogisticRegression()"
            ]
          },
          "metadata": {},
          "execution_count": 67
        }
      ]
    },
    {
      "cell_type": "code",
      "source": [
        "y_pred_emb = logistic_reg_emb.predict(X_test_emb)\n",
        "\n",
        "print('Train Accuracy: {:2.2}'.format(1-np.sum(np.abs(y_pred_emb-y_test_emb))/y_test_emb.shape[0]))\n",
        "print('Test Accuracy: {:2.2}'.format(1-np.sum(np.abs(y_pred_emb-y_test_emb))/y_test_emb.shape[0]))\n",
        "print('Confusion matrix: ', np.array2string(confusion_matrix(y_test_emb,y_pred_emb), prefix='Confusion matrix: '))"
      ],
      "metadata": {
        "colab": {
          "base_uri": "https://localhost:8080/"
        },
        "id": "Cs5VyDFrTIZe",
        "outputId": "4cd00799-7c6f-4dcf-a6f9-bc882d59d569"
      },
      "execution_count": null,
      "outputs": [
        {
          "output_type": "stream",
          "name": "stdout",
          "text": [
            "Train Accuracy: 0.77\n",
            "Test Accuracy: 0.77\n",
            "Confusion matrix:  [[3845 1155]\n",
            "                   [1169 3831]]\n"
          ]
        }
      ]
    },
    {
      "cell_type": "markdown",
      "source": [
        "## b.) universal-sentence-encoder + logistic regression (84% test accuracy)"
      ],
      "metadata": {
        "id": "qqk7Yma-VDWp"
      }
    },
    {
      "cell_type": "code",
      "source": [
        "embeddings_large = embed_large(processed_review_for_vec[:25000])"
      ],
      "metadata": {
        "id": "xHbfO06WWC9J"
      },
      "execution_count": null,
      "outputs": []
    },
    {
      "cell_type": "code",
      "source": [
        "X_train_emb, X_test_emb, y_train_emb, y_test_emb = train_test_split(embeddings_large.numpy(), y[:25000],\\\n",
        "                                                    stratify=y[:25000], test_size=0.2, random_state=42)  "
      ],
      "metadata": {
        "id": "d4R3n1l8UeRO"
      },
      "execution_count": null,
      "outputs": []
    },
    {
      "cell_type": "code",
      "source": [
        "scaler=StandardScaler()\n",
        "\n",
        "X_train_emb=scaler.fit_transform(X_train_emb)\n",
        "X_test_emb=scaler.fit_transform(X_test_emb)\n",
        "\n",
        "logistic_reg_emb = LogisticRegression() #max_iter=500\n",
        "logistic_reg_emb.fit(X_train_emb, y_train_emb)"
      ],
      "metadata": {
        "colab": {
          "base_uri": "https://localhost:8080/"
        },
        "id": "0QaWjE_vWyei",
        "outputId": "077dafde-134f-43e3-c9c0-da3736a61355"
      },
      "execution_count": null,
      "outputs": [
        {
          "output_type": "stream",
          "name": "stderr",
          "text": [
            "/usr/local/lib/python3.8/dist-packages/sklearn/linear_model/_logistic.py:814: ConvergenceWarning: lbfgs failed to converge (status=1):\n",
            "STOP: TOTAL NO. of ITERATIONS REACHED LIMIT.\n",
            "\n",
            "Increase the number of iterations (max_iter) or scale the data as shown in:\n",
            "    https://scikit-learn.org/stable/modules/preprocessing.html\n",
            "Please also refer to the documentation for alternative solver options:\n",
            "    https://scikit-learn.org/stable/modules/linear_model.html#logistic-regression\n",
            "  n_iter_i = _check_optimize_result(\n"
          ]
        },
        {
          "output_type": "execute_result",
          "data": {
            "text/plain": [
              "LogisticRegression()"
            ]
          },
          "metadata": {},
          "execution_count": 71
        }
      ]
    },
    {
      "cell_type": "code",
      "source": [
        "y_pred_emb = logistic_reg_emb.predict(X_test_emb)\n",
        "\n",
        "#print('Train Accuracy: {:2.2}'.format(1-np.sum(np.abs(y_pred_emb-y_test_emb))/y_test_emb.shape[0]))\n",
        "print('Test Accuracy: {:2.2}'.format(1-np.sum(np.abs(y_pred_emb-y_test_emb))/y_test_emb.shape[0]))\n",
        "print('Confusion matrix: ', np.array2string(confusion_matrix(y_test_emb,y_pred_emb), prefix='Confusion matrix: '))"
      ],
      "metadata": {
        "colab": {
          "base_uri": "https://localhost:8080/"
        },
        "id": "jfRmQq31UoM2",
        "outputId": "908e1e0b-64f1-42af-b4b2-ddebc5b4a252"
      },
      "execution_count": null,
      "outputs": [
        {
          "output_type": "stream",
          "name": "stdout",
          "text": [
            "Test Accuracy: 0.84\n",
            "Confusion matrix:  [[2068  437]\n",
            "                   [ 384 2111]]\n"
          ]
        }
      ]
    },
    {
      "cell_type": "markdown",
      "source": [
        "## c.) universal-sentence-encoder + basic NN (87% test accuracy)"
      ],
      "metadata": {
        "id": "GJNjfkf4VNNd"
      }
    },
    {
      "cell_type": "code",
      "source": [
        "model_dim50 = keras.Sequential([\n",
        "  hub.KerasLayer(\"https://tfhub.dev/google/universal-sentence-encoder/4\",\n",
        "                  dtype=tf.string, input_shape=[]),\n",
        "  #keras.layers.Dense(512,activation='relu'),\n",
        "  #keras.layers.Dropout(rate=0.2),\n",
        "  #keras.layers.Dense(256,activation='relu'),\n",
        "  #keras.layers.Dropout(rate=0.2),\n",
        "  keras.layers.Dense(128,activation='relu'),\n",
        "  keras.layers.Dropout(rate=0.2),\n",
        "  keras.layers.Dense(1, activation = \"sigmoid\")\n",
        "])\n",
        "model_dim50.compile(loss=\"binary_crossentropy\", optimizer=\"adam\",\n",
        "              metrics=[\"accuracy\"])"
      ],
      "metadata": {
        "id": "PXN9wvx8l9MP"
      },
      "execution_count": null,
      "outputs": []
    },
    {
      "cell_type": "code",
      "source": [
        "model_dim50.summary()"
      ],
      "metadata": {
        "colab": {
          "base_uri": "https://localhost:8080/"
        },
        "outputId": "755e4eef-dbac-44f7-fd88-76daea2f41ca",
        "id": "ROBgv0Seituy"
      },
      "execution_count": null,
      "outputs": [
        {
          "output_type": "stream",
          "name": "stdout",
          "text": [
            "Model: \"sequential_2\"\n",
            "_________________________________________________________________\n",
            " Layer (type)                Output Shape              Param #   \n",
            "=================================================================\n",
            " keras_layer (KerasLayer)    (None, 512)               256797824 \n",
            "                                                                 \n",
            " dense_2 (Dense)             (None, 128)               65664     \n",
            "                                                                 \n",
            " dropout_6 (Dropout)         (None, 128)               0         \n",
            "                                                                 \n",
            " dense_3 (Dense)             (None, 1)                 129       \n",
            "                                                                 \n",
            "=================================================================\n",
            "Total params: 256,863,617\n",
            "Trainable params: 65,793\n",
            "Non-trainable params: 256,797,824\n",
            "_________________________________________________________________\n"
          ]
        }
      ]
    },
    {
      "cell_type": "code",
      "source": [
        "#X_train_v, X_test_v, y_train_v, y_test_v = train_test_split(processed_review_for_vec.numpy(), y,\\\n",
        "#                                                    stratify=y, test_size=0.2, random_state=42)  \n",
        "\n",
        "X_train_v, X_test_v, y_train_v, y_test_v = train_test_split(np.array(all_data['review']), y,\\\n",
        "                                                    stratify=y, test_size=0.2, random_state=42)  \n",
        "\n",
        "X_train_v1 = tf.convert_to_tensor(X_train_v)\n",
        "X_test_v1 = tf.convert_to_tensor(X_test_v)\n",
        "y_train_v1 = tf.convert_to_tensor(y_train_v)\n",
        "y_test_v1 = tf.convert_to_tensor(y_test_v)"
      ],
      "metadata": {
        "id": "D_F_lPJPnopz"
      },
      "execution_count": null,
      "outputs": []
    },
    {
      "cell_type": "code",
      "source": [
        "history = model_dim50.fit(X_train_v1, y_train_v1, validation_split=0.1, shuffle=True, epochs=10)"
      ],
      "metadata": {
        "colab": {
          "base_uri": "https://localhost:8080/"
        },
        "outputId": "c74ab746-e296-4b07-c9ea-bede23562d0b",
        "id": "NVF3AzvKituz"
      },
      "execution_count": null,
      "outputs": [
        {
          "output_type": "stream",
          "name": "stdout",
          "text": [
            "Epoch 1/10\n",
            "1125/1125 [==============================] - 51s 43ms/step - loss: 0.3592 - accuracy: 0.8438 - val_loss: 0.3166 - val_accuracy: 0.8673\n",
            "Epoch 2/10\n",
            "1125/1125 [==============================] - 48s 43ms/step - loss: 0.3237 - accuracy: 0.8593 - val_loss: 0.3117 - val_accuracy: 0.8650\n",
            "Epoch 3/10\n",
            "1125/1125 [==============================] - 47s 42ms/step - loss: 0.3156 - accuracy: 0.8626 - val_loss: 0.3081 - val_accuracy: 0.8687\n",
            "Epoch 4/10\n",
            "1125/1125 [==============================] - 47s 42ms/step - loss: 0.3087 - accuracy: 0.8660 - val_loss: 0.3028 - val_accuracy: 0.8727\n",
            "Epoch 5/10\n",
            "1125/1125 [==============================] - 47s 42ms/step - loss: 0.3005 - accuracy: 0.8706 - val_loss: 0.3026 - val_accuracy: 0.8690\n",
            "Epoch 6/10\n",
            "1125/1125 [==============================] - 48s 42ms/step - loss: 0.2930 - accuracy: 0.8742 - val_loss: 0.2983 - val_accuracy: 0.8725\n",
            "Epoch 7/10\n",
            "1125/1125 [==============================] - 48s 42ms/step - loss: 0.2864 - accuracy: 0.8794 - val_loss: 0.2956 - val_accuracy: 0.8723\n",
            "Epoch 8/10\n",
            "1125/1125 [==============================] - 48s 43ms/step - loss: 0.2783 - accuracy: 0.8825 - val_loss: 0.2970 - val_accuracy: 0.8717\n",
            "Epoch 9/10\n",
            "1125/1125 [==============================] - 47s 42ms/step - loss: 0.2705 - accuracy: 0.8869 - val_loss: 0.2950 - val_accuracy: 0.8752\n",
            "Epoch 10/10\n",
            "1125/1125 [==============================] - 47s 42ms/step - loss: 0.2636 - accuracy: 0.8909 - val_loss: 0.2955 - val_accuracy: 0.8758\n"
          ]
        }
      ]
    },
    {
      "cell_type": "code",
      "source": [
        "plt.plot(history.history['accuracy'])\n",
        "plt.plot(history.history['val_accuracy'])\n",
        "plt.title('model accuracy')\n",
        "plt.ylabel('accuracy')\n",
        "plt.xlabel('epoch')\n",
        "plt.legend(['train', 'test'], loc='upper left')\n",
        "plt.show()"
      ],
      "metadata": {
        "colab": {
          "base_uri": "https://localhost:8080/",
          "height": 295
        },
        "id": "AHtS29x1edWg",
        "outputId": "70a4ba40-b8cd-4743-8514-8aa288320d5e"
      },
      "execution_count": null,
      "outputs": [
        {
          "output_type": "display_data",
          "data": {
            "text/plain": [
              "<Figure size 432x288 with 1 Axes>"
            ],
            "image/png": "[encoded data removed]"
          },
          "metadata": {
            "needs_background": "light"
          }
        }
      ]
    },
    {
      "cell_type": "code",
      "source": [
        "plt.plot(history.history['loss'])\n",
        "plt.plot(history.history['val_loss'])\n",
        "plt.title('model loss')\n",
        "plt.ylabel('loss')\n",
        "plt.xlabel('epoch')\n",
        "plt.legend(['train', 'test'], loc='upper left')\n",
        "plt.show()"
      ],
      "metadata": {
        "colab": {
          "base_uri": "https://localhost:8080/",
          "height": 295
        },
        "id": "drDrXw7PemVA",
        "outputId": "79f27b6d-20b2-4c3e-9e3b-92e133ad8d35"
      },
      "execution_count": null,
      "outputs": [
        {
          "output_type": "display_data",
          "data": {
            "text/plain": [
              "<Figure size 432x288 with 1 Axes>"
            ],
            "image/png": "[encoded data removed]"
          },
          "metadata": {
            "needs_background": "light"
          }
        }
      ]
    },
    {
      "cell_type": "code",
      "source": [
        "Test_pred=model_dim50.predict(X_test_v1)\n",
        "y_test_pred=np.asarray(np.round(Test_pred).reshape(1,-1),dtype='int64')[0]\n",
        "\n",
        "Train_pred=model_dim50.predict(X_train_v1)\n",
        "y_train_pred=np.asarray(np.round(Train_pred).reshape(1,-1),dtype='int64')[0]"
      ],
      "metadata": {
        "colab": {
          "base_uri": "https://localhost:8080/"
        },
        "outputId": "43bd2cd6-4865-496a-c553-c68d540fbcc8",
        "id": "-OYlTmBKituz"
      },
      "execution_count": null,
      "outputs": [
        {
          "output_type": "stream",
          "name": "stdout",
          "text": [
            "313/313 [==============================] - 12s 38ms/step\n",
            "1250/1250 [==============================] - 46s 37ms/step\n"
          ]
        }
      ]
    },
    {
      "cell_type": "code",
      "source": [
        "print('Train Accuracy: {:2.2}'.format(1-np.sum(np.abs(y_train_pred-y_train_v))/y_train_v.shape[0]))\n",
        "print('Test Accuracy: {:2.2}'.format(1-np.sum(np.abs(y_test_pred-y_test_v))/y_test_v.shape[0]))\n",
        "print('Confusion matrix: ', np.array2string(confusion_matrix(y_test_v,y_test_pred), prefix='Confusion matrix: '))"
      ],
      "metadata": {
        "colab": {
          "base_uri": "https://localhost:8080/"
        },
        "id": "FLHjZIJ1eSoA",
        "outputId": "b1949023-93bc-4bab-db66-7a0e4f12bdbb"
      },
      "execution_count": null,
      "outputs": [
        {
          "output_type": "stream",
          "name": "stdout",
          "text": [
            "Train Accuracy: 0.9\n",
            "Test Accuracy: 0.87\n",
            "Confusion matrix:  [[4403  597]\n",
            "                   [ 697 4303]]\n"
          ]
        }
      ]
    },
    {
      "cell_type": "markdown",
      "source": [
        "# Approach 5: Combine Approaches 1, 2 and 4: (91.4% test accuracy)\n",
        " \n",
        "As in approach 3, we now combine the most successful approaches to find a \"final model\" with test accuracy **91.4%**. We combine the RNN prediction of approach 1 with the logistic regression and LGBM models of approach 2 as well as the universal-sentence-encoder + basic NN model of approach 4 (with equal 1:1:1:1 weighing).\n"
      ],
      "metadata": {
        "id": "hSr9xXIkFnxh"
      }
    },
    {
      "cell_type": "code",
      "source": [
        "y_pred_together_all = np.array([round(y_pred_vlogistic_proba[i]/4+test_pred_perc[i]/4+y_pred_vgbm_proba[i]/4+Test_pred.reshape(1,-1)[0][i]/4) for i in range(10000)])\n",
        "\n",
        "# 1:1:1:1 weighting\n",
        "\n",
        "print('Test Accuracy: {:2.6}'.format(1-np.sum(np.abs(y_pred_together_all-y_test))/y_test.shape[0]))"
      ],
      "metadata": {
        "colab": {
          "base_uri": "https://localhost:8080/"
        },
        "id": "l4lYAtvlFIo6",
        "outputId": "de402ef1-7c0d-4fb9-fa55-d5b9c5b63077"
      },
      "execution_count": null,
      "outputs": [
        {
          "output_type": "stream",
          "name": "stdout",
          "text": [
            "Test Accuracy: 0.9141\n"
          ]
        }
      ]
    },
    {
      "cell_type": "markdown",
      "source": [
        "# Approach 6 (experimental): Include causal structure in vectorization:\n",
        "\n",
        "Here -- for completion -- we include some additional, more experimental ideas that I played around with."
      ],
      "metadata": {
        "id": "3qJHS5361vQk"
      }
    },
    {
      "cell_type": "markdown",
      "source": [
        "## a.) Include 'not'+word for negation\n",
        " \n",
        "As mentioned in Approach 4, we can try to account for negating phrases by (naively) adding not+word to the dictionary. For example if the review contains a phrase such as \"isn't good\" we add \"is\" and \"notgood\" to the dictionary. This accounts for very simple negating phrases but not for more complex one (for that one would need to use more sophisticated approaches).\n",
        "\n",
        "We do not find significant improvement by doing so. Actually, the test accuracy for the lgbm model remains the same as before."
      ],
      "metadata": {
        "id": "y5hk17zkM-1F"
      }
    },
    {
      "cell_type": "code",
      "source": [
        "processed_review_for_vec_new=[]\n",
        "\n",
        "for sentence in processed_review_for_vec:\n",
        "  prev=''\n",
        "  new_sent=[]\n",
        "  for word in tf.strings.split(sentence):\n",
        "    word_str=word.numpy().decode(\"utf-8\")\n",
        "    \n",
        "    if word_str in negating_words:\n",
        "      prev=word_str\n",
        "    else:\n",
        "      if prev=='':\n",
        "        new_sent.append(ps.stem(word_str))\n",
        "      else:\n",
        "        new_sent.append('not'+ps.stem(word_str))\n",
        "        prev=''\n",
        "  processed_review_for_vec_new.append(bytes(\" \".join(new_sent), 'utf-8'))"
      ],
      "metadata": {
        "id": "JNfuY2bbTrsp"
      },
      "execution_count": null,
      "outputs": []
    },
    {
      "cell_type": "code",
      "source": [
        "X_train_new, X_test_new, y_train_new, y_test_new = train_test_split(np.array(processed_review_for_vec_new), y,\\\n",
        "                                                    stratify=y, test_size=0.2, random_state=42)  "
      ],
      "metadata": {
        "id": "KvkB8MuwTKKc"
      },
      "execution_count": null,
      "outputs": []
    },
    {
      "cell_type": "code",
      "source": [
        "vectorizer_new = CountVectorizer(max_features = 1000)\n",
        "\n",
        "X_train_new = vectorizer.fit_transform(X_train_new).toarray()\n",
        "X_test_new = vectorizer.transform(X_test_new).toarray()"
      ],
      "metadata": {
        "id": "P1fBxE_JvBFW"
      },
      "execution_count": null,
      "outputs": []
    },
    {
      "cell_type": "markdown",
      "source": [
        "### i.) Light GBM (89% test accuracy)"
      ],
      "metadata": {
        "id": "32KpRCZKl9f_"
      }
    },
    {
      "cell_type": "code",
      "source": [
        "new_params = {'n_estimators': 500,'num_leaves' : 31}\n",
        "\n",
        "new_gbm = LGBMClassifier(**new_params).fit(X_train_new, y_train_new)\n",
        "#gbm = LGBMClassifier().fit(X_train_v, y_train_v)"
      ],
      "metadata": {
        "id": "Y8P1vm_7l9gA"
      },
      "execution_count": null,
      "outputs": []
    },
    {
      "cell_type": "code",
      "source": [
        "y_pred_vgbm_new = new_gbm.predict(X_test_new)\n",
        "\n",
        "print('Train Accuracy: {:2.3}'.format(1-np.sum(np.abs(new_gbm.predict(X_train_new)-y_train_new))/y_train_new.shape[0]))\n",
        "print('Test Accuracy: {:2.3}'.format(1-np.sum(np.abs(y_pred_vgbm_new-y_test_new))/y_test_new.shape[0]))\n",
        "print('Confusion matrix: ', np.array2string(confusion_matrix(y_test_new,y_pred_vgbm_new), prefix='Confusion matrix: '))"
      ],
      "metadata": {
        "id": "uRbOImeOl9gA"
      },
      "execution_count": null,
      "outputs": []
    },
    {
      "cell_type": "code",
      "source": [
        "new_params = {'n_estimators': 500,'num_leaves' : 127}\n",
        "\n",
        "new_gbm = LGBMClassifier(**new_params).fit(X_train_new, y_train_new)\n",
        "#gbm = LGBMClassifier().fit(X_train_v, y_train_v)"
      ],
      "metadata": {
        "id": "p_y-856wmu3p"
      },
      "execution_count": null,
      "outputs": []
    },
    {
      "cell_type": "code",
      "source": [
        "y_pred_vgbm_new = gbm_new.predict(X_test_new)\n",
        "\n",
        "print('Train Accuracy: {:2.3}'.format(1-np.sum(np.abs(gbm_new.predict(X_train_new)-y_train_new))/y_train_new.shape[0]))\n",
        "print('Test Accuracy: {:2.3}'.format(1-np.sum(np.abs(y_pred_vgbm_new-y_test_new))/y_test_new.shape[0]))\n",
        "print('Confusion matrix: ', np.array2string(confusion_matrix(y_test_new,y_pred_vgbm_new), prefix='Confusion matrix: '))"
      ],
      "metadata": {
        "colab": {
          "base_uri": "https://localhost:8080/"
        },
        "outputId": "25848815-7171-4a36-f931-10c235deb4b6",
        "id": "7qxymbu-mu3q"
      },
      "execution_count": null,
      "outputs": [
        {
          "output_type": "stream",
          "name": "stdout",
          "text": [
            "Train Accuracy: 1.0\n",
            "Test Accuracy: 0.896\n",
            "Confusion matrix:  [[4472  528]\n",
            "                   [ 512 4488]]\n"
          ]
        }
      ]
    },
    {
      "cell_type": "markdown",
      "source": [
        "**Rmk:** The below example shows that a phrase such as \"this movie is not bad\" is now classified correctly, since \"not bad\" is encoded as \"notbad\" in the dictionary with positive sentiment score."
      ],
      "metadata": {
        "id": "S8e77_wuhx0P"
      }
    },
    {
      "cell_type": "code",
      "source": [
        "new_gbm.predict_proba(vectorizer.transform(np.array([b'notbad'])).toarray())"
      ],
      "metadata": {
        "colab": {
          "base_uri": "https://localhost:8080/"
        },
        "id": "OIj1c8LjmusY",
        "outputId": "f231b119-cd21-49e4-a9ae-a4cd2eecca92"
      },
      "execution_count": null,
      "outputs": [
        {
          "output_type": "execute_result",
          "data": {
            "text/plain": [
              "array([[0.38780372, 0.61219628]])"
            ]
          },
          "metadata": {},
          "execution_count": 207
        }
      ]
    },
    {
      "cell_type": "markdown",
      "source": [
        "# b.) Bag-of-words sentiment + RNN\n",
        "\n",
        "This is another attempt to add causal structure to the vectorized bag-of-word input of Approach 2. In particular, we now use the pre-trained logistic regression (or lgbm) model to assign a sentiment score for each of the first 100 words in a review. We then take these sentiment vectors and train a RNN model on them. \n",
        "\n",
        "**Rmks:**\n",
        "\n",
        "* The upshot is that once we processed the input, the model is extremely fast. \n",
        "* To me this is a novel idea (I have not encountered an approach like this). Tuning various parameters (in particular the number of words we keep) I was able to achieve up to ~85% test accuracy -- which is a slight improvement over the baseline. However, training seems quite erratic and prone to changes of parameters. I suspect including more words might yield a somewhat higher score.\n",
        "* I wonder if this approach is actually able to improve over approach 2 (which we use as an input). One issue is that negated phrases are still classified incorrectly. For example, the model in approach 2 maps 'not' and 'very' to ~0.5 sentiment score. Thus, the current model will not be able to discern 'not good' from 'very good', as both their inputs account for a similar sequence of ~ [...., 0.5, 0.8, ...] in the input vector.\n"
      ],
      "metadata": {
        "id": "Z1k80eiWmmSS"
      }
    },
    {
      "cell_type": "code",
      "source": [
        "def fn_gbm(x):\n",
        "  return gbm.predict_proba(vectorizer.transform(x).toarray())[:,1]\n",
        "\n",
        "def fn_log(x):\n",
        "  return logistic_reg.predict_proba(vectorizer.transform(x).toarray())[:,1]\n",
        "\n",
        "\n",
        "def process_for_sentiment(X, max_nr_of_words=1000, method='log'):\n",
        "  X = tf.strings.split(X)\n",
        "  X = X.to_tensor(shape=[None,max_nr_of_words])\n",
        "  if method=='gbm':\n",
        "    X = np.apply_along_axis(fn_gbm,1,X.numpy())\n",
        "  else: # method=='log':\n",
        "    X = np.apply_along_axis(fn_log,1,X.numpy())\n",
        "  return X"
      ],
      "metadata": {
        "id": "4tt60SwQJ-kI"
      },
      "execution_count": null,
      "outputs": []
    },
    {
      "cell_type": "code",
      "source": [
        "MAX_NR_OF_WORDS = 100\n",
        "NR_OF_SAMPLES = 50000\n",
        "\n",
        "processed_review_for_vec_num = process_for_sentiment(processed_review_for_vec[:NR_OF_SAMPLES],\\\n",
        "                                                     max_nr_of_words=MAX_NR_OF_WORDS,\n",
        "                                                     method='log')\n",
        "\n",
        "y_num = y[:NR_OF_SAMPLES]"
      ],
      "metadata": {
        "id": "Uu6ccC7XWLfE"
      },
      "execution_count": null,
      "outputs": []
    },
    {
      "cell_type": "code",
      "source": [
        "from sklearn.preprocessing import StandardScaler\n",
        "\n",
        "scal= StandardScaler()\n",
        "processed_review_for_vec_num_scal = scal.fit_transform(processed_review_for_vec_num)\n",
        "\n",
        "X_train_gbm, X_test_gbm, y_train_gbm, y_test_gbm = train_test_split(processed_review_for_vec_num_scal, y_num,\\\n",
        "                                                    stratify=y_num, test_size=0.2, random_state=42)  "
      ],
      "metadata": {
        "id": "uflAU6muR37o"
      },
      "execution_count": null,
      "outputs": []
    },
    {
      "cell_type": "code",
      "source": [
        "embed_size = 128\n",
        "\n",
        "model_gbm = keras.models.Sequential([\n",
        "  keras.layers.Embedding(MAX_NR_OF_WORDS,\n",
        "                          embed_size,\n",
        "                          #mask_zero = True, \n",
        "                          input_shape = [None]),\n",
        "  #keras.layers.Dropout(rate=0.2),\n",
        "  keras.layers.GRU(128, return_sequences = True),\n",
        "  #keras.layers.Dropout(rate=0.2),\n",
        "  keras.layers.GRU(128),\n",
        "  #keras.layers.Dropout(rate=0.2),\n",
        "  keras.layers.Dense(1, activation = \"sigmoid\")\n",
        "])\n",
        "\n",
        "opt=keras.optimizers.Adam(learning_rate=0.0001)\n",
        "\n",
        "model_gbm.compile(loss=\"binary_crossentropy\", optimizer=\"adam\", metrics=[\"accuracy\"])"
      ],
      "metadata": {
        "id": "RPq0zlMdJ-s8"
      },
      "execution_count": null,
      "outputs": []
    },
    {
      "cell_type": "code",
      "source": [
        "history_gbm = model_gbm.fit(X_train_gbm, y_train_gbm,\\\n",
        "                    validation_split = 0.1,\\\n",
        "                    shuffle = True,\\\n",
        "                    epochs = 10)"
      ],
      "metadata": {
        "colab": {
          "base_uri": "https://localhost:8080/"
        },
        "outputId": "da0ecba9-3e7a-466b-b9f1-566b4a089b79",
        "id": "gqIs2DrKJ-s9"
      },
      "execution_count": null,
      "outputs": [
        {
          "output_type": "stream",
          "name": "stdout",
          "text": [
            "Epoch 1/10\n",
            "1125/1125 [==============================] - 15s 12ms/step - loss: 0.5780 - accuracy: 0.6407 - val_loss: 0.3601 - val_accuracy: 0.8357\n",
            "Epoch 2/10\n",
            "1125/1125 [==============================] - 14s 12ms/step - loss: 0.2914 - accuracy: 0.8730 - val_loss: 0.2834 - val_accuracy: 0.8802\n",
            "Epoch 3/10\n",
            "1125/1125 [==============================] - 13s 12ms/step - loss: 0.2839 - accuracy: 0.8751 - val_loss: 0.2830 - val_accuracy: 0.8733\n",
            "Epoch 4/10\n",
            "1125/1125 [==============================] - 13s 12ms/step - loss: 0.2819 - accuracy: 0.8752 - val_loss: 0.2829 - val_accuracy: 0.8770\n",
            "Epoch 5/10\n",
            "1125/1125 [==============================] - 13s 11ms/step - loss: 0.2801 - accuracy: 0.8777 - val_loss: 0.2768 - val_accuracy: 0.8777\n",
            "Epoch 6/10\n",
            "1125/1125 [==============================] - 12s 11ms/step - loss: 0.2783 - accuracy: 0.8769 - val_loss: 0.2834 - val_accuracy: 0.8780\n",
            "Epoch 7/10\n",
            "1125/1125 [==============================] - 13s 12ms/step - loss: 0.2770 - accuracy: 0.8782 - val_loss: 0.2841 - val_accuracy: 0.8785\n",
            "Epoch 8/10\n",
            "1125/1125 [==============================] - 14s 12ms/step - loss: 0.2779 - accuracy: 0.8766 - val_loss: 0.2796 - val_accuracy: 0.8773\n",
            "Epoch 9/10\n",
            "1125/1125 [==============================] - 13s 11ms/step - loss: 0.2758 - accuracy: 0.8774 - val_loss: 0.2824 - val_accuracy: 0.8785\n",
            "Epoch 10/10\n",
            "1125/1125 [==============================] - 13s 11ms/step - loss: 0.2743 - accuracy: 0.8781 - val_loss: 0.2803 - val_accuracy: 0.8763\n"
          ]
        }
      ]
    },
    {
      "cell_type": "code",
      "source": [
        "y_pred_gbmTest_pred_gbm = model_gbm.predict(X_test_gbm)\n",
        "y_pred_gbm = np.asarray(np.round(Test_pred_gbm).reshape(1,-1),dtype='int64')[0]\n",
        "\n",
        "print('Test Accuracy: {:2.3}'.format(1-np.sum(np.abs(y_pred_gbm-y_test_gbm))/y_test_gbm.shape[0]))\n",
        "print('Confusion matrix: ', np.array2string(confusion_matrix(y_test_gbm,y_pred_gbm), prefix='Confusion matrix: '))"
      ],
      "metadata": {
        "colab": {
          "base_uri": "https://localhost:8080/"
        },
        "outputId": "1a81a5a0-0b68-4630-a3a5-22e2b76fa572",
        "id": "K_Ho5UvlJ-s9"
      },
      "execution_count": null,
      "outputs": [
        {
          "output_type": "stream",
          "name": "stdout",
          "text": [
            "313/313 [==============================] - 2s 5ms/step\n",
            "Test Accuracy: 0.826\n",
            "Confusion matrix:  [[4103  897]\n",
            "                   [ 841 4159]]\n"
          ]
        }
      ]
    }
  ]
}